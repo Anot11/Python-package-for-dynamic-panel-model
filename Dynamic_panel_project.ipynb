{
  "nbformat": 4,
  "nbformat_minor": 0,
  "metadata": {
    "colab": {
      "provenance": [],
      "machine_shape": "hm",
      "toc_visible": true,
      "include_colab_link": true
    },
    "kernelspec": {
      "name": "python3",
      "display_name": "Python 3"
    },
    "language_info": {
      "name": "python"
    },
    "gpuClass": "standard"
  },
  "cells": [
    {
      "cell_type": "markdown",
      "metadata": {
        "id": "view-in-github",
        "colab_type": "text"
      },
      "source": [
        "<a href=\"https://colab.research.google.com/github/Anot11/Python-package-for-dynamic-panel-model/blob/main/Dynamic_panel_project.ipynb\" target=\"_parent\"><img src=\"https://colab.research.google.com/assets/colab-badge.svg\" alt=\"Open In Colab\"/></a>"
      ]
    },
    {
      "cell_type": "code",
      "execution_count": 1,
      "metadata": {
        "colab": {
          "base_uri": "https://localhost:8080/"
        },
        "id": "bhl5PMV7TC8l",
        "outputId": "714ee902-8291-427b-e573-eaa0e05ac0fc"
      },
      "outputs": [
        {
          "output_type": "stream",
          "name": "stdout",
          "text": [
            "Collecting linearmodels\n",
            "  Downloading linearmodels-5.1-cp310-cp310-manylinux_2_17_x86_64.manylinux2014_x86_64.whl (1.8 MB)\n",
            "\u001b[2K     \u001b[90m━━━━━━━━━━━━━━━━━━━━━━━━━━━━━━━━━━━━━━━━\u001b[0m \u001b[32m1.8/1.8 MB\u001b[0m \u001b[31m9.4 MB/s\u001b[0m eta \u001b[36m0:00:00\u001b[0m\n",
            "\u001b[?25hRequirement already satisfied: numpy>=1.19.0 in /usr/local/lib/python3.10/dist-packages (from linearmodels) (1.22.4)\n",
            "Requirement already satisfied: pandas>=1.1.0 in /usr/local/lib/python3.10/dist-packages (from linearmodels) (1.5.3)\n",
            "Requirement already satisfied: scipy>=1.5.0 in /usr/local/lib/python3.10/dist-packages (from linearmodels) (1.10.1)\n",
            "Requirement already satisfied: statsmodels>=0.12.0 in /usr/local/lib/python3.10/dist-packages (from linearmodels) (0.13.5)\n",
            "Collecting mypy-extensions>=0.4 (from linearmodels)\n",
            "  Downloading mypy_extensions-1.0.0-py3-none-any.whl (4.7 kB)\n",
            "Requirement already satisfied: Cython>=0.29.34 in /usr/local/lib/python3.10/dist-packages (from linearmodels) (0.29.36)\n",
            "Collecting pyhdfe>=0.1 (from linearmodels)\n",
            "  Downloading pyhdfe-0.1.2-py3-none-any.whl (18 kB)\n",
            "Collecting formulaic>=0.6.1 (from linearmodels)\n",
            "  Downloading formulaic-0.6.4-py3-none-any.whl (88 kB)\n",
            "\u001b[2K     \u001b[90m━━━━━━━━━━━━━━━━━━━━━━━━━━━━━━━━━━━━━━━━\u001b[0m \u001b[32m88.9/88.9 kB\u001b[0m \u001b[31m9.0 MB/s\u001b[0m eta \u001b[36m0:00:00\u001b[0m\n",
            "\u001b[?25hCollecting setuptools-scm[toml]<8.0.0,>=7.0.0 (from linearmodels)\n",
            "  Downloading setuptools_scm-7.1.0-py3-none-any.whl (43 kB)\n",
            "\u001b[2K     \u001b[90m━━━━━━━━━━━━━━━━━━━━━━━━━━━━━━━━━━━━━━━━\u001b[0m \u001b[32m43.8/43.8 kB\u001b[0m \u001b[31m3.7 MB/s\u001b[0m eta \u001b[36m0:00:00\u001b[0m\n",
            "\u001b[?25hCollecting astor>=0.8 (from formulaic>=0.6.1->linearmodels)\n",
            "  Downloading astor-0.8.1-py2.py3-none-any.whl (27 kB)\n",
            "Collecting interface-meta>=1.2.0 (from formulaic>=0.6.1->linearmodels)\n",
            "  Downloading interface_meta-1.3.0-py3-none-any.whl (14 kB)\n",
            "Requirement already satisfied: typing-extensions>=4.2.0 in /usr/local/lib/python3.10/dist-packages (from formulaic>=0.6.1->linearmodels) (4.7.1)\n",
            "Requirement already satisfied: wrapt>=1.0 in /usr/local/lib/python3.10/dist-packages (from formulaic>=0.6.1->linearmodels) (1.14.1)\n",
            "Requirement already satisfied: python-dateutil>=2.8.1 in /usr/local/lib/python3.10/dist-packages (from pandas>=1.1.0->linearmodels) (2.8.2)\n",
            "Requirement already satisfied: pytz>=2020.1 in /usr/local/lib/python3.10/dist-packages (from pandas>=1.1.0->linearmodels) (2022.7.1)\n",
            "Requirement already satisfied: packaging>=20.0 in /usr/local/lib/python3.10/dist-packages (from setuptools-scm[toml]<8.0.0,>=7.0.0->linearmodels) (23.1)\n",
            "Requirement already satisfied: setuptools in /usr/local/lib/python3.10/dist-packages (from setuptools-scm[toml]<8.0.0,>=7.0.0->linearmodels) (67.7.2)\n",
            "Requirement already satisfied: tomli>=1.0.0 in /usr/local/lib/python3.10/dist-packages (from setuptools-scm[toml]<8.0.0,>=7.0.0->linearmodels) (2.0.1)\n",
            "Requirement already satisfied: patsy>=0.5.2 in /usr/local/lib/python3.10/dist-packages (from statsmodels>=0.12.0->linearmodels) (0.5.3)\n",
            "Requirement already satisfied: six in /usr/local/lib/python3.10/dist-packages (from patsy>=0.5.2->statsmodels>=0.12.0->linearmodels) (1.16.0)\n",
            "Installing collected packages: setuptools-scm, mypy-extensions, interface-meta, astor, pyhdfe, formulaic, linearmodels\n",
            "Successfully installed astor-0.8.1 formulaic-0.6.4 interface-meta-1.3.0 linearmodels-5.1 mypy-extensions-1.0.0 pyhdfe-0.1.2 setuptools-scm-7.1.0\n"
          ]
        }
      ],
      "source": [
        "pip install linearmodels"
      ]
    },
    {
      "cell_type": "code",
      "source": [
        "pip install pydynpd"
      ],
      "metadata": {
        "colab": {
          "base_uri": "https://localhost:8080/"
        },
        "id": "ruy_2CKxHdx0",
        "outputId": "d03f90c6-6a1b-4998-e98a-1c9c45d1ec6b"
      },
      "execution_count": 2,
      "outputs": [
        {
          "output_type": "stream",
          "name": "stdout",
          "text": [
            "Collecting pydynpd\n",
            "  Downloading pydynpd-0.2.0-1-py3-none-any.whl (25 kB)\n",
            "Requirement already satisfied: numpy in /usr/local/lib/python3.10/dist-packages (from pydynpd) (1.22.4)\n",
            "Requirement already satisfied: scipy in /usr/local/lib/python3.10/dist-packages (from pydynpd) (1.10.1)\n",
            "Requirement already satisfied: prettytable in /usr/local/lib/python3.10/dist-packages (from pydynpd) (0.7.2)\n",
            "Requirement already satisfied: pandas in /usr/local/lib/python3.10/dist-packages (from pydynpd) (1.5.3)\n",
            "Requirement already satisfied: python-dateutil>=2.8.1 in /usr/local/lib/python3.10/dist-packages (from pandas->pydynpd) (2.8.2)\n",
            "Requirement already satisfied: pytz>=2020.1 in /usr/local/lib/python3.10/dist-packages (from pandas->pydynpd) (2022.7.1)\n",
            "Requirement already satisfied: six>=1.5 in /usr/local/lib/python3.10/dist-packages (from python-dateutil>=2.8.1->pandas->pydynpd) (1.16.0)\n",
            "Installing collected packages: pydynpd\n",
            "Successfully installed pydynpd-0.2.0\n"
          ]
        }
      ]
    },
    {
      "cell_type": "code",
      "source": [
        "import pandas as pd\n",
        "from  pydynpd import regression"
      ],
      "metadata": {
        "id": "nmQMJSIxHhxZ"
      },
      "execution_count": 3,
      "outputs": []
    },
    {
      "cell_type": "code",
      "source": [
        "import numpy.linalg      as la\n",
        "import matplotlib.pyplot as plt\n",
        "import numpy             as np\n",
        "import pandas            as pd\n",
        "import statsmodels.api   as sm"
      ],
      "metadata": {
        "id": "Sk5W3IwlTbhF"
      },
      "execution_count": 4,
      "outputs": []
    },
    {
      "cell_type": "code",
      "source": [
        "from linearmodels.panel           import PooledOLS, RandomEffects, compare\n",
        "from linearmodels                 import PanelOLS\n",
        "from statsmodels.stats.diagnostic import het_white, het_breuschpagan\n",
        "from statsmodels.stats.stattools  import durbin_watson\n",
        "from scipy                        import stats\n",
        "\n",
        "\n",
        "\n"
      ],
      "metadata": {
        "id": "gdI46pBrTamY"
      },
      "execution_count": 5,
      "outputs": []
    },
    {
      "cell_type": "code",
      "source": [
        "import seaborn as sns"
      ],
      "metadata": {
        "id": "a1Z0fpqbTePC"
      },
      "execution_count": 6,
      "outputs": []
    },
    {
      "cell_type": "code",
      "source": [
        "from google.colab import drive\n",
        "drive.mount('/content/drive/')"
      ],
      "metadata": {
        "colab": {
          "base_uri": "https://localhost:8080/"
        },
        "id": "T7GGim5rTibn",
        "outputId": "469fcbf2-5001-4c06-e0fa-6fbadd99d589"
      },
      "execution_count": 7,
      "outputs": [
        {
          "output_type": "stream",
          "name": "stdout",
          "text": [
            "Mounted at /content/drive/\n"
          ]
        }
      ]
    },
    {
      "cell_type": "code",
      "source": [
        "df=pd.read_csv('/content/drive/MyDrive/group.csv')"
      ],
      "metadata": {
        "id": "zuTmczKEl-Ko"
      },
      "execution_count": 8,
      "outputs": []
    },
    {
      "cell_type": "code",
      "source": [
        "df.head()"
      ],
      "metadata": {
        "colab": {
          "base_uri": "https://localhost:8080/",
          "height": 235
        },
        "id": "_GxbxpXIm2Tc",
        "outputId": "15c8b226-a072-4d4e-aacc-7f13d885e068"
      },
      "execution_count": 9,
      "outputs": [
        {
          "output_type": "execute_result",
          "data": {
            "text/plain": [
              "   ID   IQ  Race  Sex  Year  HghstGrdCompl    Inc  Age  Exp  Exp2  ...  d06  \\\n",
              "0  15  109     3    1  1979              8    0.0   14    0     0  ...    0   \n",
              "1  15  109     3    1  1980              9    0.0   15    0     0  ...    0   \n",
              "2  15  109     3    1  1981             10    0.0   16    0     0  ...    0   \n",
              "3  15  109     3    1  1982             11    0.0   17    0     0  ...    0   \n",
              "4  15  109     3    1  1983             12  900.0   18    0     0  ...    0   \n",
              "\n",
              "   d08  d10  d12  d14  d16  d18  dwhite  dblack  dfemale  \n",
              "0    0    0    0    0    0    0       0       0        1  \n",
              "1    0    0    0    0    0    0       0       0        1  \n",
              "2    0    0    0    0    0    0       0       0        1  \n",
              "3    0    0    0    0    0    0       0       0        1  \n",
              "4    0    0    0    0    0    0       0       0        1  \n",
              "\n",
              "[5 rows x 41 columns]"
            ],
            "text/html": [
              "\n",
              "\n",
              "  <div id=\"df-6ea2c684-9d15-42ca-948e-ffa988f8bcb6\">\n",
              "    <div class=\"colab-df-container\">\n",
              "      <div>\n",
              "<style scoped>\n",
              "    .dataframe tbody tr th:only-of-type {\n",
              "        vertical-align: middle;\n",
              "    }\n",
              "\n",
              "    .dataframe tbody tr th {\n",
              "        vertical-align: top;\n",
              "    }\n",
              "\n",
              "    .dataframe thead th {\n",
              "        text-align: right;\n",
              "    }\n",
              "</style>\n",
              "<table border=\"1\" class=\"dataframe\">\n",
              "  <thead>\n",
              "    <tr style=\"text-align: right;\">\n",
              "      <th></th>\n",
              "      <th>ID</th>\n",
              "      <th>IQ</th>\n",
              "      <th>Race</th>\n",
              "      <th>Sex</th>\n",
              "      <th>Year</th>\n",
              "      <th>HghstGrdCompl</th>\n",
              "      <th>Inc</th>\n",
              "      <th>Age</th>\n",
              "      <th>Exp</th>\n",
              "      <th>Exp2</th>\n",
              "      <th>...</th>\n",
              "      <th>d06</th>\n",
              "      <th>d08</th>\n",
              "      <th>d10</th>\n",
              "      <th>d12</th>\n",
              "      <th>d14</th>\n",
              "      <th>d16</th>\n",
              "      <th>d18</th>\n",
              "      <th>dwhite</th>\n",
              "      <th>dblack</th>\n",
              "      <th>dfemale</th>\n",
              "    </tr>\n",
              "  </thead>\n",
              "  <tbody>\n",
              "    <tr>\n",
              "      <th>0</th>\n",
              "      <td>15</td>\n",
              "      <td>109</td>\n",
              "      <td>3</td>\n",
              "      <td>1</td>\n",
              "      <td>1979</td>\n",
              "      <td>8</td>\n",
              "      <td>0.0</td>\n",
              "      <td>14</td>\n",
              "      <td>0</td>\n",
              "      <td>0</td>\n",
              "      <td>...</td>\n",
              "      <td>0</td>\n",
              "      <td>0</td>\n",
              "      <td>0</td>\n",
              "      <td>0</td>\n",
              "      <td>0</td>\n",
              "      <td>0</td>\n",
              "      <td>0</td>\n",
              "      <td>0</td>\n",
              "      <td>0</td>\n",
              "      <td>1</td>\n",
              "    </tr>\n",
              "    <tr>\n",
              "      <th>1</th>\n",
              "      <td>15</td>\n",
              "      <td>109</td>\n",
              "      <td>3</td>\n",
              "      <td>1</td>\n",
              "      <td>1980</td>\n",
              "      <td>9</td>\n",
              "      <td>0.0</td>\n",
              "      <td>15</td>\n",
              "      <td>0</td>\n",
              "      <td>0</td>\n",
              "      <td>...</td>\n",
              "      <td>0</td>\n",
              "      <td>0</td>\n",
              "      <td>0</td>\n",
              "      <td>0</td>\n",
              "      <td>0</td>\n",
              "      <td>0</td>\n",
              "      <td>0</td>\n",
              "      <td>0</td>\n",
              "      <td>0</td>\n",
              "      <td>1</td>\n",
              "    </tr>\n",
              "    <tr>\n",
              "      <th>2</th>\n",
              "      <td>15</td>\n",
              "      <td>109</td>\n",
              "      <td>3</td>\n",
              "      <td>1</td>\n",
              "      <td>1981</td>\n",
              "      <td>10</td>\n",
              "      <td>0.0</td>\n",
              "      <td>16</td>\n",
              "      <td>0</td>\n",
              "      <td>0</td>\n",
              "      <td>...</td>\n",
              "      <td>0</td>\n",
              "      <td>0</td>\n",
              "      <td>0</td>\n",
              "      <td>0</td>\n",
              "      <td>0</td>\n",
              "      <td>0</td>\n",
              "      <td>0</td>\n",
              "      <td>0</td>\n",
              "      <td>0</td>\n",
              "      <td>1</td>\n",
              "    </tr>\n",
              "    <tr>\n",
              "      <th>3</th>\n",
              "      <td>15</td>\n",
              "      <td>109</td>\n",
              "      <td>3</td>\n",
              "      <td>1</td>\n",
              "      <td>1982</td>\n",
              "      <td>11</td>\n",
              "      <td>0.0</td>\n",
              "      <td>17</td>\n",
              "      <td>0</td>\n",
              "      <td>0</td>\n",
              "      <td>...</td>\n",
              "      <td>0</td>\n",
              "      <td>0</td>\n",
              "      <td>0</td>\n",
              "      <td>0</td>\n",
              "      <td>0</td>\n",
              "      <td>0</td>\n",
              "      <td>0</td>\n",
              "      <td>0</td>\n",
              "      <td>0</td>\n",
              "      <td>1</td>\n",
              "    </tr>\n",
              "    <tr>\n",
              "      <th>4</th>\n",
              "      <td>15</td>\n",
              "      <td>109</td>\n",
              "      <td>3</td>\n",
              "      <td>1</td>\n",
              "      <td>1983</td>\n",
              "      <td>12</td>\n",
              "      <td>900.0</td>\n",
              "      <td>18</td>\n",
              "      <td>0</td>\n",
              "      <td>0</td>\n",
              "      <td>...</td>\n",
              "      <td>0</td>\n",
              "      <td>0</td>\n",
              "      <td>0</td>\n",
              "      <td>0</td>\n",
              "      <td>0</td>\n",
              "      <td>0</td>\n",
              "      <td>0</td>\n",
              "      <td>0</td>\n",
              "      <td>0</td>\n",
              "      <td>1</td>\n",
              "    </tr>\n",
              "  </tbody>\n",
              "</table>\n",
              "<p>5 rows × 41 columns</p>\n",
              "</div>\n",
              "      <button class=\"colab-df-convert\" onclick=\"convertToInteractive('df-6ea2c684-9d15-42ca-948e-ffa988f8bcb6')\"\n",
              "              title=\"Convert this dataframe to an interactive table.\"\n",
              "              style=\"display:none;\">\n",
              "\n",
              "  <svg xmlns=\"http://www.w3.org/2000/svg\" height=\"24px\"viewBox=\"0 0 24 24\"\n",
              "       width=\"24px\">\n",
              "    <path d=\"M0 0h24v24H0V0z\" fill=\"none\"/>\n",
              "    <path d=\"M18.56 5.44l.94 2.06.94-2.06 2.06-.94-2.06-.94-.94-2.06-.94 2.06-2.06.94zm-11 1L8.5 8.5l.94-2.06 2.06-.94-2.06-.94L8.5 2.5l-.94 2.06-2.06.94zm10 10l.94 2.06.94-2.06 2.06-.94-2.06-.94-.94-2.06-.94 2.06-2.06.94z\"/><path d=\"M17.41 7.96l-1.37-1.37c-.4-.4-.92-.59-1.43-.59-.52 0-1.04.2-1.43.59L10.3 9.45l-7.72 7.72c-.78.78-.78 2.05 0 2.83L4 21.41c.39.39.9.59 1.41.59.51 0 1.02-.2 1.41-.59l7.78-7.78 2.81-2.81c.8-.78.8-2.07 0-2.86zM5.41 20L4 18.59l7.72-7.72 1.47 1.35L5.41 20z\"/>\n",
              "  </svg>\n",
              "      </button>\n",
              "\n",
              "\n",
              "\n",
              "    <div id=\"df-6598a448-822c-4be1-8e84-b355cbda092d\">\n",
              "      <button class=\"colab-df-quickchart\" onclick=\"quickchart('df-6598a448-822c-4be1-8e84-b355cbda092d')\"\n",
              "              title=\"Suggest charts.\"\n",
              "              style=\"display:none;\">\n",
              "\n",
              "<svg xmlns=\"http://www.w3.org/2000/svg\" height=\"24px\"viewBox=\"0 0 24 24\"\n",
              "     width=\"24px\">\n",
              "    <g>\n",
              "        <path d=\"M19 3H5c-1.1 0-2 .9-2 2v14c0 1.1.9 2 2 2h14c1.1 0 2-.9 2-2V5c0-1.1-.9-2-2-2zM9 17H7v-7h2v7zm4 0h-2V7h2v10zm4 0h-2v-4h2v4z\"/>\n",
              "    </g>\n",
              "</svg>\n",
              "      </button>\n",
              "    </div>\n",
              "\n",
              "<style>\n",
              "  .colab-df-quickchart {\n",
              "    background-color: #E8F0FE;\n",
              "    border: none;\n",
              "    border-radius: 50%;\n",
              "    cursor: pointer;\n",
              "    display: none;\n",
              "    fill: #1967D2;\n",
              "    height: 32px;\n",
              "    padding: 0 0 0 0;\n",
              "    width: 32px;\n",
              "  }\n",
              "\n",
              "  .colab-df-quickchart:hover {\n",
              "    background-color: #E2EBFA;\n",
              "    box-shadow: 0px 1px 2px rgba(60, 64, 67, 0.3), 0px 1px 3px 1px rgba(60, 64, 67, 0.15);\n",
              "    fill: #174EA6;\n",
              "  }\n",
              "\n",
              "  [theme=dark] .colab-df-quickchart {\n",
              "    background-color: #3B4455;\n",
              "    fill: #D2E3FC;\n",
              "  }\n",
              "\n",
              "  [theme=dark] .colab-df-quickchart:hover {\n",
              "    background-color: #434B5C;\n",
              "    box-shadow: 0px 1px 3px 1px rgba(0, 0, 0, 0.15);\n",
              "    filter: drop-shadow(0px 1px 2px rgba(0, 0, 0, 0.3));\n",
              "    fill: #FFFFFF;\n",
              "  }\n",
              "</style>\n",
              "\n",
              "    <script>\n",
              "      async function quickchart(key) {\n",
              "        const containerElement = document.querySelector('#' + key);\n",
              "        const charts = await google.colab.kernel.invokeFunction(\n",
              "            'suggestCharts', [key], {});\n",
              "      }\n",
              "    </script>\n",
              "\n",
              "      <script>\n",
              "\n",
              "function displayQuickchartButton(domScope) {\n",
              "  let quickchartButtonEl =\n",
              "    domScope.querySelector('#df-6598a448-822c-4be1-8e84-b355cbda092d button.colab-df-quickchart');\n",
              "  quickchartButtonEl.style.display =\n",
              "    google.colab.kernel.accessAllowed ? 'block' : 'none';\n",
              "}\n",
              "\n",
              "        displayQuickchartButton(document);\n",
              "      </script>\n",
              "      <style>\n",
              "    .colab-df-container {\n",
              "      display:flex;\n",
              "      flex-wrap:wrap;\n",
              "      gap: 12px;\n",
              "    }\n",
              "\n",
              "    .colab-df-convert {\n",
              "      background-color: #E8F0FE;\n",
              "      border: none;\n",
              "      border-radius: 50%;\n",
              "      cursor: pointer;\n",
              "      display: none;\n",
              "      fill: #1967D2;\n",
              "      height: 32px;\n",
              "      padding: 0 0 0 0;\n",
              "      width: 32px;\n",
              "    }\n",
              "\n",
              "    .colab-df-convert:hover {\n",
              "      background-color: #E2EBFA;\n",
              "      box-shadow: 0px 1px 2px rgba(60, 64, 67, 0.3), 0px 1px 3px 1px rgba(60, 64, 67, 0.15);\n",
              "      fill: #174EA6;\n",
              "    }\n",
              "\n",
              "    [theme=dark] .colab-df-convert {\n",
              "      background-color: #3B4455;\n",
              "      fill: #D2E3FC;\n",
              "    }\n",
              "\n",
              "    [theme=dark] .colab-df-convert:hover {\n",
              "      background-color: #434B5C;\n",
              "      box-shadow: 0px 1px 3px 1px rgba(0, 0, 0, 0.15);\n",
              "      filter: drop-shadow(0px 1px 2px rgba(0, 0, 0, 0.3));\n",
              "      fill: #FFFFFF;\n",
              "    }\n",
              "  </style>\n",
              "\n",
              "      <script>\n",
              "        const buttonEl =\n",
              "          document.querySelector('#df-6ea2c684-9d15-42ca-948e-ffa988f8bcb6 button.colab-df-convert');\n",
              "        buttonEl.style.display =\n",
              "          google.colab.kernel.accessAllowed ? 'block' : 'none';\n",
              "\n",
              "        async function convertToInteractive(key) {\n",
              "          const element = document.querySelector('#df-6ea2c684-9d15-42ca-948e-ffa988f8bcb6');\n",
              "          const dataTable =\n",
              "            await google.colab.kernel.invokeFunction('convertToInteractive',\n",
              "                                                     [key], {});\n",
              "          if (!dataTable) return;\n",
              "\n",
              "          const docLinkHtml = 'Like what you see? Visit the ' +\n",
              "            '<a target=\"_blank\" href=https://colab.research.google.com/notebooks/data_table.ipynb>data table notebook</a>'\n",
              "            + ' to learn more about interactive tables.';\n",
              "          element.innerHTML = '';\n",
              "          dataTable['output_type'] = 'display_data';\n",
              "          await google.colab.output.renderOutput(dataTable, element);\n",
              "          const docLink = document.createElement('div');\n",
              "          docLink.innerHTML = docLinkHtml;\n",
              "          element.appendChild(docLink);\n",
              "        }\n",
              "      </script>\n",
              "    </div>\n",
              "  </div>\n"
            ]
          },
          "metadata": {},
          "execution_count": 9
        }
      ]
    },
    {
      "cell_type": "code",
      "source": [
        "# Rename the columns in the DataFrame df\n",
        "df.rename(columns={\n",
        "  'HghstGrdCompl': 'S',\n",
        "    'Inc': 'y',\n",
        "    'Age': 'A',\n",
        "    'Exp': 'X',\n",
        "    'Exp2': 'X2',\n",
        "    'Marital Sts': 'MS'\n",
        "}, inplace=True)\n",
        "\n",
        "# Check the new column names\n",
        "print(df.columns)\n"
      ],
      "metadata": {
        "colab": {
          "base_uri": "https://localhost:8080/"
        },
        "id": "NYObfjscOhJ2",
        "outputId": "c99759a2-f823-4bc3-ef1d-5febf8109321"
      },
      "execution_count": 10,
      "outputs": [
        {
          "output_type": "stream",
          "name": "stdout",
          "text": [
            "Index(['ID', 'IQ', 'Race', 'Sex', 'Year', 'S', 'y', 'A', 'X', 'X2', 'MS',\n",
            "       'd80', 'd81', 'd82', 'd83', 'd84', 'd85', 'd86', 'd87', 'd88', 'd89',\n",
            "       'd90', 'd91', 'd92', 'd93', 'd94', 'd96', 'd98', 'd00', 'd02', 'd04',\n",
            "       'd06', 'd08', 'd10', 'd12', 'd14', 'd16', 'd18', 'dwhite', 'dblack',\n",
            "       'dfemale'],\n",
            "      dtype='object')\n"
          ]
        }
      ]
    },
    {
      "cell_type": "code",
      "source": [
        "df['ln_y'] = df['y'].apply(lambda x: np.log(x))\n",
        "\n",
        "df = np.clip(df, a_min=0, a_max=None)\n"
      ],
      "metadata": {
        "id": "0160oXmtNr4R"
      },
      "execution_count": 11,
      "outputs": []
    },
    {
      "cell_type": "code",
      "source": [
        "df.columns"
      ],
      "metadata": {
        "colab": {
          "base_uri": "https://localhost:8080/"
        },
        "id": "l8S1KR7xnL1L",
        "outputId": "8ae7bbfa-0177-4746-8005-fd3702250967"
      },
      "execution_count": 12,
      "outputs": [
        {
          "output_type": "execute_result",
          "data": {
            "text/plain": [
              "Index(['ID', 'IQ', 'Race', 'Sex', 'Year', 'S', 'y', 'A', 'X', 'X2', 'MS',\n",
              "       'd80', 'd81', 'd82', 'd83', 'd84', 'd85', 'd86', 'd87', 'd88', 'd89',\n",
              "       'd90', 'd91', 'd92', 'd93', 'd94', 'd96', 'd98', 'd00', 'd02', 'd04',\n",
              "       'd06', 'd08', 'd10', 'd12', 'd14', 'd16', 'd18', 'dwhite', 'dblack',\n",
              "       'dfemale', 'ln_y'],\n",
              "      dtype='object')"
            ]
          },
          "metadata": {},
          "execution_count": 12
        }
      ]
    },
    {
      "cell_type": "markdown",
      "source": [
        "typical dynamic panel data model:\n",
        "Arellano-Bond GMM Estimator GMM approach based on all available instruments.\n",
        "\n",
        "\\\n",
        "\n",
        "$$\\log(y_{it}) = \\lambda_1 y_{i,t-1} + \\lambda_2 y_{i,t-2} + \\beta_1 S_{it} + \\beta_2 X_{it} + \\beta_3 X_{it}^2 + \\beta_4 D + \\epsilon$$\n",
        "\n",
        "\n",
        "\n",
        "logy denotes income, S is years of schooling, and X is years of experience since finishing school. Therefore, the exponent on S can be considered the ‘return to education’ and the exponent on X the ‘ return to experience.’ D is a vector of control variables such as IQ, Sex, Race and Marital status"
      ],
      "metadata": {
        "id": "vjG4j_NhSr90"
      }
    },
    {
      "cell_type": "markdown",
      "source": [
        "Part 1 is a list starting with the dependent variable, and followed by independent variables except time dummies. Given the model, part 1 is:\n",
        "\n",
        "ln_y L1.ln_y L2.ln_y S X\n",
        "In the command above, L is the lag operator as in L1.n (i.e.,) or L2.n for 2 lags of n (i.e.,)."
      ],
      "metadata": {
        "id": "dOinlTbiXojk"
      }
    },
    {
      "cell_type": "code",
      "source": [
        "command_str='ln_y L1.ln_y L2.ln_y S A X X2 IQ dwhite dblack dfemale  | gmm(ln_y, 2:3) gmm(S, 1:.) iv(X)'"
      ],
      "metadata": {
        "id": "rrYw8wv3HkbR"
      },
      "execution_count": 13,
      "outputs": []
    },
    {
      "cell_type": "markdown",
      "source": [
        "# Example 1"
      ],
      "metadata": {
        "id": "ewMJ9xS7a9PK"
      }
    },
    {
      "cell_type": "code",
      "source": [
        "#M1\n",
        "mydpd  = regression.abond(command_str, df, ['ID', 'Year'])"
      ],
      "metadata": {
        "colab": {
          "base_uri": "https://localhost:8080/"
        },
        "id": "KN-th252NBBm",
        "outputId": "14cd3fed-f1ec-42d0-c7ea-bb02a30dc5c2"
      },
      "execution_count": 14,
      "outputs": [
        {
          "output_type": "stream",
          "name": "stdout",
          "text": [
            " Dynamic panel-data estimation, two-step system GMM\n",
            " Group variable: ID                                Number of obs = 29700    \n",
            " Time variable: Year                               Min obs per group: 25    \n",
            " Number of instruments = 485                       Max obs per group: 25    \n",
            " Number of groups = 1188                           Avg obs per group: 25.00 \n",
            "+---------+------------+---------------------+------------+-----------+-----+\n",
            "|   ln_y  |   coef.    | Corrected Std. Err. |     z      |   P>|z|   |     |\n",
            "+---------+------------+---------------------+------------+-----------+-----+\n",
            "| L1.ln_y | 0.6859741  |      0.0097242      | 70.5428518 | 0.0000000 | *** |\n",
            "| L2.ln_y | 0.1483826  |      0.0091609      | 16.1973964 | 0.0000000 | *** |\n",
            "|    S    | 5.7672645  |      2.9755864      | 1.9381943  | 0.0525995 |     |\n",
            "|    A    | -5.7284964 |      2.9761631      | -1.9247925 | 0.0542553 |     |\n",
            "|    X    | 5.6637338  |      2.9785843      | 1.9014851  | 0.0572385 |     |\n",
            "|    X2   | 0.0009835  |      0.0001513      | 6.5013813  | 0.0000000 | *** |\n",
            "|    IQ   | -0.0000978 |      0.0011138      | -0.0877670 | 0.9300619 |     |\n",
            "|  dwhite | 0.3171592  |      0.0943069      | 3.3630527  | 0.0007709 | *** |\n",
            "|  dblack | 0.3169776  |      0.0626888      | 5.0563637  | 0.0000004 | *** |\n",
            "| dfemale | 0.0849161  |      0.0598642      | 1.4184786  | 0.1560511 |     |\n",
            "|   _con  | 35.4278070 |      17.8387091     | 1.9860073  | 0.0470325 |  *  |\n",
            "+---------+------------+---------------------+------------+-----------+-----+\n",
            "Hansen test of overid. restrictions: chi(474) = 841.830 Prob > Chi2 = 0.000\n",
            "Arellano-Bond test for AR(1) in first differences: z = -21.91 Pr > z =0.000\n",
            "Arellano-Bond test for AR(2) in first differences: z = -6.01 Pr > z =0.000\n",
            "\n"
          ]
        }
      ]
    },
    {
      "cell_type": "markdown",
      "source": [
        "The result shows that the regression is a two-step system GMM, which is the default setting because we didn't include part 3 in our command string. There are 1188 individuals in the imbalanced sample over 25 (=27-2) years as we include the second lag of the dependent variable (i.e., L2.n).\n",
        "\n",
        "Hansen over-identification test is significant, which means that our choices of instruments are not exogenous.\n",
        "\n",
        "Because the regression doesn't pass Hansen over-identification test, we change our assumptions to: Both $S$ and $X$ are predetermined variables"
      ],
      "metadata": {
        "id": "8dtkRxbYY2ZU"
      }
    },
    {
      "cell_type": "markdown",
      "source": [
        "#Example 2"
      ],
      "metadata": {
        "id": "X9GYhrmG9KmQ"
      }
    },
    {
      "cell_type": "markdown",
      "source": [
        "**Example 2**\n",
        "Then we modify our code as follows. Note that \"gmm (S X, 1:.) iv(X)\" is changed to \"gmm(S X, 1:.)\" based on the new assumption.\n",
        "\n",
        "We also remove variables that were not significant in the previous regression"
      ],
      "metadata": {
        "id": "CLn9ug34atui"
      }
    },
    {
      "cell_type": "code",
      "source": [
        "#M2\n",
        "command_str='ln_y L1.ln_y L2.ln_y S X X2 dwhite dblack | gmm(ln_y, 2:3) gmm(S X2, 1:.)'\n",
        "\n",
        "mydpd  = regression.abond(command_str, df, ['ID', 'Year'])"
      ],
      "metadata": {
        "colab": {
          "base_uri": "https://localhost:8080/"
        },
        "id": "YGuiK-lPU-ck",
        "outputId": "ee9e607e-5393-45c5-eaf9-0d68f08d0ec2"
      },
      "execution_count": 15,
      "outputs": [
        {
          "output_type": "stream",
          "name": "stdout",
          "text": [
            " Dynamic panel-data estimation, two-step system GMM\n",
            " Group variable: ID                                Number of obs = 29700    \n",
            " Time variable: Year                               Min obs per group: 25    \n",
            " Number of instruments = 882                       Max obs per group: 25    \n",
            " Number of groups = 1188                           Avg obs per group: 25.00 \n",
            "+---------+------------+---------------------+-------------+-----------+-----+\n",
            "|   ln_y  |   coef.    | Corrected Std. Err. |      z      |   P>|z|   |     |\n",
            "+---------+------------+---------------------+-------------+-----------+-----+\n",
            "| L1.ln_y | 0.6858527  |      0.0086484      |  79.3037279 | 0.0000000 | *** |\n",
            "| L2.ln_y | 0.1485237  |      0.0078121      |  19.0120568 | 0.0000000 | *** |\n",
            "|    S    | 0.0464723  |      0.0099476      |  4.6717200  | 0.0000030 | *** |\n",
            "|    X    | -0.0744152 |      0.0048427      | -15.3665035 | 0.0000000 | *** |\n",
            "|    X2   | 0.0011897  |      0.0001245      |  9.5525024  | 0.0000000 | *** |\n",
            "|  dwhite | 0.2909835  |      0.0828910      |  3.5104350  | 0.0004474 | *** |\n",
            "|  dblack | 0.3006830  |      0.0537452      |  5.5945997  | 0.0000000 | *** |\n",
            "|   _con  | 1.0631720  |      0.1350055      |  7.8750247  | 0.0000000 | *** |\n",
            "+---------+------------+---------------------+-------------+-----------+-----+\n",
            "Hansen test of overid. restrictions: chi(874) = 1122.790 Prob > Chi2 = 0.000\n",
            "Arellano-Bond test for AR(1) in first differences: z = -21.55 Pr > z =0.000\n",
            "Arellano-Bond test for AR(2) in first differences: z = -5.92 Pr > z =0.000\n",
            "\n"
          ]
        }
      ]
    },
    {
      "cell_type": "markdown",
      "source": [
        "The model passes Arellano-Bond tests, but not the Hansen 😞"
      ],
      "metadata": {
        "id": "xGkyQPVQclTg"
      }
    },
    {
      "cell_type": "markdown",
      "source": [
        "#Example 3"
      ],
      "metadata": {
        "id": "nxZkIj9_cySp"
      }
    },
    {
      "cell_type": "markdown",
      "source": [
        "Apart from gmm() and iv(), we can also use endo() and pred() for convinience in part 2. endo(list of variables) is equivelent to gmm(list of variables, 2:.) while pred(list of variables) is the same as gmm(list of variables, 1:.).\n",
        "\n",
        "For example, the code for the second model can be changed as follows and we get the same result."
      ],
      "metadata": {
        "id": "3adcn28AdAAC"
      }
    },
    {
      "cell_type": "code",
      "source": [
        "#M3\n",
        "command_str='ln_y L1.ln_y L2.ln_y S X X2 dwhite dblack | gmm(ln_y, 2:3) pred(S X2)'\n",
        "\n",
        "mydpd  = regression.abond(command_str, df, ['ID', 'Year'])\n"
      ],
      "metadata": {
        "colab": {
          "base_uri": "https://localhost:8080/"
        },
        "id": "D4CY0FaM2p2O",
        "outputId": "8851f2ff-bc1d-402a-c7c9-5de861aacb8d"
      },
      "execution_count": 16,
      "outputs": [
        {
          "output_type": "stream",
          "name": "stdout",
          "text": [
            " Dynamic panel-data estimation, two-step system GMM\n",
            " Group variable: ID                                Number of obs = 29700    \n",
            " Time variable: Year                               Min obs per group: 25    \n",
            " Number of instruments = 882                       Max obs per group: 25    \n",
            " Number of groups = 1188                           Avg obs per group: 25.00 \n",
            "+---------+------------+---------------------+-------------+-----------+-----+\n",
            "|   ln_y  |   coef.    | Corrected Std. Err. |      z      |   P>|z|   |     |\n",
            "+---------+------------+---------------------+-------------+-----------+-----+\n",
            "| L1.ln_y | 0.6858527  |      0.0086484      |  79.3037279 | 0.0000000 | *** |\n",
            "| L2.ln_y | 0.1485237  |      0.0078121      |  19.0120568 | 0.0000000 | *** |\n",
            "|    S    | 0.0464723  |      0.0099476      |  4.6717200  | 0.0000030 | *** |\n",
            "|    X    | -0.0744152 |      0.0048427      | -15.3665035 | 0.0000000 | *** |\n",
            "|    X2   | 0.0011897  |      0.0001245      |  9.5525024  | 0.0000000 | *** |\n",
            "|  dwhite | 0.2909835  |      0.0828910      |  3.5104350  | 0.0004474 | *** |\n",
            "|  dblack | 0.3006830  |      0.0537452      |  5.5945997  | 0.0000000 | *** |\n",
            "|   _con  | 1.0631720  |      0.1350055      |  7.8750247  | 0.0000000 | *** |\n",
            "+---------+------------+---------------------+-------------+-----------+-----+\n",
            "Hansen test of overid. restrictions: chi(874) = 1122.790 Prob > Chi2 = 0.000\n",
            "Arellano-Bond test for AR(1) in first differences: z = -21.55 Pr > z =0.000\n",
            "Arellano-Bond test for AR(2) in first differences: z = -5.92 Pr > z =0.000\n",
            "\n"
          ]
        }
      ]
    },
    {
      "cell_type": "markdown",
      "source": [
        "# Part 2"
      ],
      "metadata": {
        "id": "TnNFsExHflHh"
      }
    },
    {
      "cell_type": "markdown",
      "source": [
        "We can change the default settings in part 3 of our command string. Part 2 includes the following possible options:\n",
        "\n",
        "onestep: perform one-step GMM estimation rather than the default two-step GMM estimation. nolevel: only perform difference GMM iterated: perform iterative GMM estimation. timedumm: automatically include time dummies in part 1, and IV statement in part 2. hqic: if there are multiple competing models, let them be sorted by hqic rather than by the default bic. collapse: collapse instruments to reduce the proeblem of too many instruments"
      ],
      "metadata": {
        "id": "J0pE3KqffpNN"
      }
    },
    {
      "cell_type": "markdown",
      "source": [
        "**Example 4** For example, we can change the regression to a one-step difference GMM by adding part 3 in our command string. Also, suppose we want to include more lagged dependent variables as instruments. That is, we want to use all available lagged rather than just L2.n and L3.ln_y in the previous models. So, we change gmm(Ln_y, 2:3) to gmm(Ln_y, 2:.) which is then simplified to endo(ln_y)."
      ],
      "metadata": {
        "id": "YvIwT7lAf_Uc"
      }
    },
    {
      "cell_type": "code",
      "source": [
        "#M4\n",
        "command_str='ln_y L1.ln_y L2.ln_y S X X2 dwhite dblack | endo(ln_y) pred(S X2) | onestep nolevel'\n",
        "\n",
        "mydpd  = regression.abond(command_str, df, ['ID', 'Year'])\n"
      ],
      "metadata": {
        "colab": {
          "base_uri": "https://localhost:8080/"
        },
        "id": "3g3x5tC_f1Hh",
        "outputId": "a8b1c370-f0cd-465a-97ca-cbf8e7ba6286"
      },
      "execution_count": 17,
      "outputs": [
        {
          "output_type": "stream",
          "name": "stdout",
          "text": [
            " Dynamic panel-data estimation, one-step difference GMM\n",
            " Group variable: ID                                 Number of obs = 29700    \n",
            " Time variable: Year                                Min obs per group: 25    \n",
            " Number of instruments = 1103                       Max obs per group: 25    \n",
            " Number of groups = 1188                            Avg obs per group: 25.00 \n",
            "+---------+------------+---------------------+------------+-----------+-----+\n",
            "|   ln_y  |   coef.    | Corrected Std. Err. |     z      |   P>|z|   |     |\n",
            "+---------+------------+---------------------+------------+-----------+-----+\n",
            "| L1.ln_y | 0.5501162  |      0.0100973      | 54.4816548 | 0.0000000 | *** |\n",
            "| L2.ln_y | 0.0688908  |      0.0077131      | 8.9317132  | 0.0000000 | *** |\n",
            "|    S    | 0.0588886  |      0.0440400      | 1.3371593  | 0.1811706 |     |\n",
            "|    X    | -0.0496375 |      0.0075165      | -6.6038418 | 0.0000000 | *** |\n",
            "|    X2   | 0.0002814  |      0.0001707      | 1.6483389  | 0.0992832 |     |\n",
            "|  dwhite | 0.0000000  |      0.0000000      |    nan     |    nan    |     |\n",
            "|  dblack | 0.0000000  |      0.0000000      |    nan     |    nan    |     |\n",
            "+---------+------------+---------------------+------------+-----------+-----+\n",
            "Hansen test of overid. restrictions: chi(1096) = 1180.865 Prob > Chi2 = 0.037\n",
            "Arellano-Bond test for AR(1) in first differences: z = -26.72 Pr > z =0.000\n",
            "Arellano-Bond test for AR(2) in first differences: z = -3.54 Pr > z =0.000\n",
            "\n"
          ]
        }
      ]
    },
    {
      "cell_type": "markdown",
      "source": [
        "Example 5: Time Dummy Variables We can also add time dummy variables to the previous model:"
      ],
      "metadata": {
        "id": "1PvFT3fmhLiM"
      }
    },
    {
      "cell_type": "code",
      "source": [
        "#M5\n",
        "command_str='ln_y L1.ln_y L2.ln_y S X X2 dwhite dblack | endo(ln_y) pred(S X2) | onestep nolevel timedumm'\n",
        "\n",
        "mydpd  = regression.abond(command_str, df, ['ID', 'Year'])"
      ],
      "metadata": {
        "colab": {
          "base_uri": "https://localhost:8080/"
        },
        "id": "7uFLu7xNhOag",
        "outputId": "52aa7eb0-4033-40dd-9188-5aaa2f91ef20"
      },
      "execution_count": 18,
      "outputs": [
        {
          "output_type": "stream",
          "name": "stdout",
          "text": [
            " Dynamic panel-data estimation, one-step difference GMM\n",
            " Group variable: ID                                 Number of obs = 29700    \n",
            " Time variable: Year                                Min obs per group: 25    \n",
            " Number of instruments = 1128                       Max obs per group: 25    \n",
            " Number of groups = 1188                            Avg obs per group: 25.00 \n",
            "+-----------+------------+---------------------+------------+-----------+-----+\n",
            "|    ln_y   |   coef.    | Corrected Std. Err. |     z      |   P>|z|   |     |\n",
            "+-----------+------------+---------------------+------------+-----------+-----+\n",
            "|  L1.ln_y  | 0.5481622  |      0.0103811      | 52.8037582 | 0.0000000 | *** |\n",
            "|  L2.ln_y  | 0.0679396  |      0.0079779      | 8.5159935  | 0.0000000 | *** |\n",
            "|     S     | 0.0659673  |      0.1110018      | 0.5942901  | 0.5523181 |     |\n",
            "|     X     | -0.0283532 |      0.0889932      | -0.3185992 | 0.7500304 |     |\n",
            "|     X2    | -0.0005809 |      0.0003456      | -1.6810684 | 0.0927496 |     |\n",
            "|   dwhite  | 0.0000000  |      0.0000000      | 0.1100837  | 0.9123430 |     |\n",
            "|   dblack  | -0.0000000 |      0.0000000      | -1.9682108 | 0.0490438 |  *  |\n",
            "| Year_1982 | 0.2083386  |      0.1541528      | 1.3515068  | 0.1765331 |     |\n",
            "| Year_1983 | 0.1752691  |      0.2210881      | 0.7927568  | 0.4279195 |     |\n",
            "| Year_1984 | 0.0776557  |      0.2966065      | 0.2618137  | 0.7934651 |     |\n",
            "| Year_1985 | 0.2442595  |      0.3849593      | 0.6345072  | 0.5257499 |     |\n",
            "| Year_1986 | 0.1036557  |      0.4761315      | 0.2177039  | 0.8276599 |     |\n",
            "| Year_1987 | 0.3709023  |      0.5762175      | 0.6436846  | 0.5197800 |     |\n",
            "| Year_1988 | 0.3247874  |      0.6876010      | 0.4723486  | 0.6366780 |     |\n",
            "| Year_1989 | 0.4315416  |      0.7633924      | 0.5652946  | 0.5718734 |     |\n",
            "| Year_1990 | 0.4902186  |      0.8562867      | 0.5724935  | 0.5669877 |     |\n",
            "| Year_1991 | -0.9784486 |      0.9480988      | -1.0320113 | 0.3020668 |     |\n",
            "| Year_1992 | -0.1651773 |      1.0285592      | -0.1605909 | 0.8724156 |     |\n",
            "| Year_1993 | -0.1328668 |      1.1180471      | -0.1188383 | 0.9054035 |     |\n",
            "| Year_1994 | 0.0473487  |      1.2158236      | 0.0389437  | 0.9689353 |     |\n",
            "| Year_1996 | 0.0198169  |      1.3866586      | 0.0142911  | 0.9885978 |     |\n",
            "| Year_1998 | 0.0195346  |      1.5600430      | 0.0125218  | 0.9900093 |     |\n",
            "| Year_2000 | 0.0687662  |      1.7476373      | 0.0393481  | 0.9686129 |     |\n",
            "| Year_2002 | 0.0404912  |      1.9266664      | 0.0210162  | 0.9832327 |     |\n",
            "| Year_2004 | 0.2272675  |      2.0963683      | 0.1084101  | 0.9136704 |     |\n",
            "| Year_2006 | 0.2329629  |      2.2761380      | 0.1023501  | 0.9184788 |     |\n",
            "| Year_2008 | 0.4732848  |      2.4553348      | 0.1927578  | 0.8471487 |     |\n",
            "| Year_2010 | 0.3136375  |      2.6372772      | 0.1189247  | 0.9053350 |     |\n",
            "| Year_2012 | 0.3827013  |      2.8573230      | 0.1339370  | 0.8934524 |     |\n",
            "| Year_2014 | 0.5239220  |      3.0453225      | 0.1720415  | 0.8634049 |     |\n",
            "| Year_2016 | 0.6260748  |      3.2232386      | 0.1942378  | 0.8459897 |     |\n",
            "| Year_2018 | 0.5374605  |      3.4006186      | 0.1580479  | 0.8744191 |     |\n",
            "+-----------+------------+---------------------+------------+-----------+-----+\n",
            "Hansen test of overid. restrictions: chi(1096) = 1165.915 Prob > Chi2 = 0.070\n",
            "Arellano-Bond test for AR(1) in first differences: z = -26.51 Pr > z =0.000\n",
            "Arellano-Bond test for AR(2) in first differences: z = -3.53 Pr > z =0.000\n",
            "\n"
          ]
        }
      ]
    },
    {
      "cell_type": "markdown",
      "source": [
        "As shown above, 28 dummy variables (year_1982 ~ year_2018) are added to the model and each of them is automatically treated as a instrument. That is why the number of instruments is increased from 11031128 in the previous model to 1128."
      ],
      "metadata": {
        "id": "maM9MfcCkBfz"
      }
    },
    {
      "cell_type": "markdown",
      "source": [
        "Reducing the number of instruments As indicated in the technique guide, too many instruments causes problems. There are two ways to reduce the number of instruments. The first is to curtail the number of instruments in gmm list. For example, in example 5, we used the following command string:\n",
        "\n",
        "command_str='ln_y L1.ln_y S X | endo(ln_y) pred(S X) | onestep nolevel timedumm'\n",
        "\n",
        "In its second part, endo(ln_y) is the same as gmm(ln_y, 2:.). In other words, we use all available lagged variable as long as it is deeper than the second lag. We can place a restriction by changing endo(ln_y) to gmm(ln_y, 2:4), which says only L2.ln_y, L3.ln_y, and L4.ln_y are used as instruments.\n",
        "\n",
        "Example 6"
      ],
      "metadata": {
        "id": "EQHDqz8dk0Ev"
      }
    },
    {
      "cell_type": "code",
      "source": [
        "#M6\n",
        "command_str='ln_y L1.ln_y L2.ln_y S X X2 dwhite dblack | gmm(ln_y, 2:4) pred(S X2) | onestep nolevel timedumm'\n",
        "\n",
        "mydpd  = regression.abond(command_str, df, ['ID', 'Year'])"
      ],
      "metadata": {
        "colab": {
          "base_uri": "https://localhost:8080/"
        },
        "id": "lqczVO3KS6Bp",
        "outputId": "fff34623-8d89-4d73-a68a-76104c0a638b"
      },
      "execution_count": 19,
      "outputs": [
        {
          "output_type": "stream",
          "name": "stdout",
          "text": [
            " Dynamic panel-data estimation, one-step difference GMM\n",
            " Group variable: ID                                Number of obs = 29700    \n",
            " Time variable: Year                               Min obs per group: 25    \n",
            " Number of instruments = 852                       Max obs per group: 25    \n",
            " Number of groups = 1188                           Avg obs per group: 25.00 \n",
            "+-----------+------------+---------------------+------------+-----------+-----+\n",
            "|    ln_y   |   coef.    | Corrected Std. Err. |     z      |   P>|z|   |     |\n",
            "+-----------+------------+---------------------+------------+-----------+-----+\n",
            "|  L1.ln_y  | 0.5273181  |      0.0112532      | 46.8592200 | 0.0000000 | *** |\n",
            "|  L2.ln_y  | 0.0495567  |      0.0084510      | 5.8639791  | 0.0000000 | *** |\n",
            "|     S     | 0.2186730  |      0.1188114      | 1.8405051  | 0.0656941 |     |\n",
            "|     X     | 0.0636638  |      0.0927850      | 0.6861429  | 0.4926230 |     |\n",
            "|     X2    | -0.0007282 |      0.0003759      | -1.9374305 | 0.0526927 |     |\n",
            "|   dwhite  | 0.0000000  |      0.0000000      | 5.0943463  | 0.0000003 | *** |\n",
            "|   dblack  | 0.0000000  |      0.0000000      | 4.1728401  | 0.0000301 | *** |\n",
            "| Year_1982 | 0.1335193  |      0.1557662      | 0.8571778  | 0.3913466 |     |\n",
            "| Year_1983 | 0.0241451  |      0.2281373      | 0.1058359  | 0.9157125 |     |\n",
            "| Year_1984 | -0.1545663 |      0.3103663      | -0.4980124 | 0.6184753 |     |\n",
            "| Year_1985 | -0.0767799 |      0.4035531      | -0.1902597 | 0.8491056 |     |\n",
            "| Year_1986 | -0.3105014 |      0.5011224      | -0.6196118 | 0.5355134 |     |\n",
            "| Year_1987 | -0.1489480 |      0.6058269      | -0.2458590 | 0.8057914 |     |\n",
            "| Year_1988 | -0.3041592 |      0.7213293      | -0.4216649 | 0.6732697 |     |\n",
            "| Year_1989 | -0.2784276 |      0.8014360      | -0.3474109 | 0.7282826 |     |\n",
            "| Year_1990 | -0.3139484 |      0.8983444      | -0.3494745 | 0.7267331 |     |\n",
            "| Year_1991 | -1.8631483 |      0.9948651      | -1.8727648 | 0.0611009 |     |\n",
            "| Year_1992 | -1.1691884 |      1.0783627      | -1.0842255 | 0.2782648 |     |\n",
            "| Year_1993 | -1.2493432 |      1.1717433      | -1.0662261 | 0.2863215 |     |\n",
            "| Year_1994 | -1.1667613 |      1.2738678      | -0.9159203 | 0.3597087 |     |\n",
            "| Year_1996 | -1.3628236 |      1.4527533      | -0.9380971 | 0.3481945 |     |\n",
            "| Year_1998 | -1.5356102 |      1.6347580      | -0.9393502 | 0.3475510 |     |\n",
            "| Year_2000 | -1.6747155 |      1.8317169      | -0.9142873 | 0.3605659 |     |\n",
            "| Year_2002 | -1.8765546 |      2.0189322      | -0.9294788 | 0.3526410 |     |\n",
            "| Year_2004 | -1.8648565 |      2.1988953      | -0.8480879 | 0.3963890 |     |\n",
            "| Year_2006 | -2.0293985 |      2.3857683      | -0.8506268 | 0.3949767 |     |\n",
            "| Year_2008 | -1.9645717 |      2.5719155      | -0.7638555 | 0.4449534 |     |\n",
            "| Year_2010 | -2.2885466 |      2.7631325      | -0.8282435 | 0.4075326 |     |\n",
            "| Year_2012 | -2.4297405 |      2.9942927      | -0.8114572 | 0.4171031 |     |\n",
            "| Year_2014 | -2.4715215 |      3.1941422      | -0.7737669 | 0.4390686 |     |\n",
            "| Year_2016 | -2.5408491 |      3.3817024      | -0.7513521 | 0.4524408 |     |\n",
            "| Year_2018 | -2.7919394 |      3.5690768      | -0.7822582 | 0.4340629 |     |\n",
            "+-----------+------------+---------------------+------------+-----------+-----+\n",
            "Hansen test of overid. restrictions: chi(820) = 944.290 Prob > Chi2 = 0.002\n",
            "Arellano-Bond test for AR(1) in first differences: z = -26.63 Pr > z =0.000\n",
            "Arellano-Bond test for AR(2) in first differences: z = -1.95 Pr > z =0.051\n",
            "\n"
          ]
        }
      ]
    },
    {
      "cell_type": "markdown",
      "source": [
        "As you can see, the number of instruments is decreased from 1128  in the previous example to 852.\n",
        "\n",
        "The second way to reduce the number of instruments is to add \"collapse\" to part 3. In the next example, we just add \"collapse\" to the model in example 5."
      ],
      "metadata": {
        "id": "N7d-_se5WLYQ"
      }
    },
    {
      "cell_type": "code",
      "source": [
        "#M7\n",
        "command_str='ln_y L1.ln_y L2.ln_y S X X2 dwhite dblack | endo(ln_y) pred(S X2) | onestep nolevel timedumm collapse'\n",
        "\n",
        "mydpd  = regression.abond(command_str, df, ['ID', 'Year'])"
      ],
      "metadata": {
        "colab": {
          "base_uri": "https://localhost:8080/"
        },
        "id": "3l3JLjI0WDHg",
        "outputId": "4d4c9667-0efc-465c-f1c0-f6e8d89517dc"
      },
      "execution_count": 20,
      "outputs": [
        {
          "output_type": "stream",
          "name": "stdout",
          "text": [
            " Dynamic panel-data estimation, one-step difference GMM\n",
            " Group variable: ID                                Number of obs = 29700    \n",
            " Time variable: Year                               Min obs per group: 25    \n",
            " Number of instruments = 108                       Max obs per group: 25    \n",
            " Number of groups = 1188                           Avg obs per group: 25.00 \n",
            "+-----------+-------------+---------------------+------------+-----------+-----+\n",
            "|    ln_y   |    coef.    | Corrected Std. Err. |     z      |   P>|z|   |     |\n",
            "+-----------+-------------+---------------------+------------+-----------+-----+\n",
            "|  L1.ln_y  |  0.5412756  |      0.0122866      | 44.0542874 | 0.0000000 | *** |\n",
            "|  L2.ln_y  |  0.0672045  |      0.0087703      | 7.6627762  | 0.0000000 | *** |\n",
            "|     S     |  0.5642435  |      0.3090660      | 1.8256411  | 0.0679043 |     |\n",
            "|     X     |  0.3281434  |      0.2115255      | 1.5513182  | 0.1208254 |     |\n",
            "|     X2    |  -0.0001792 |      0.0005691      | -0.3149747 | 0.7527809 |     |\n",
            "|   dwhite  |  0.0000000  |      0.0000000      | 3.1352484  | 0.0017171 |  ** |\n",
            "|   dblack  |  0.0000000  |      0.0000000      | 2.1064565  | 0.0351647 |  *  |\n",
            "| Year_1982 |  -0.1997357 |      0.2699774      | -0.7398238 | 0.4594069 |     |\n",
            "| Year_1983 |  -0.6174028 |      0.4931603      | -1.2519313 | 0.2105949 |     |\n",
            "| Year_1984 |  -1.1014937 |      0.7172874      | -1.5356379 | 0.1246272 |     |\n",
            "| Year_1985 |  -1.3145095 |      0.9399642      | -1.3984676 | 0.1619727 |     |\n",
            "| Year_1986 |  -1.8483740 |      1.1731747      | -1.5755318 | 0.1151338 |     |\n",
            "| Year_1987 |  -2.0134163 |      1.4224463      | -1.4154604 | 0.1569336 |     |\n",
            "| Year_1988 |  -2.5095226 |      1.6889105      | -1.4858825 | 0.1373102 |     |\n",
            "| Year_1989 |  -2.7501220 |      1.8827112      | -1.4607243 | 0.1440911 |     |\n",
            "| Year_1990 |  -3.0852597 |      2.1083933      | -1.4633227 | 0.1433791 |     |\n",
            "| Year_1991 |  -4.8976098 |      2.3133519      | -2.1171054 | 0.0342509 |  *  |\n",
            "| Year_1992 |  -4.4652259 |      2.5235456      | -1.7694255 | 0.0768229 |     |\n",
            "| Year_1993 |  -4.7874569 |      2.7216332      | -1.7590383 | 0.0785710 |     |\n",
            "| Year_1994 |  -5.0011266 |      2.9464485      | -1.6973406 | 0.0896323 |     |\n",
            "| Year_1996 |  -5.7314107 |      3.3512378      | -1.7102369 | 0.0872221 |     |\n",
            "| Year_1998 |  -6.4601730 |      3.7577640      | -1.7191534 | 0.0855864 |     |\n",
            "| Year_2000 |  -7.2002705 |      4.2017283      | -1.7136449 | 0.0865940 |     |\n",
            "| Year_2002 |  -7.9590570 |      4.6086545      | -1.7269806 | 0.0841711 |     |\n",
            "| Year_2004 |  -8.5083944 |      5.0139998      | -1.6969275 | 0.0897104 |     |\n",
            "| Year_2006 |  -9.2367309 |      5.4153108      | -1.7056696 | 0.0880696 |     |\n",
            "| Year_2008 |  -9.7527612 |      5.8350032      | -1.6714235 | 0.0946381 |     |\n",
            "| Year_2010 | -10.6489450 |      6.2372755      | -1.7073071 | 0.0877650 |     |\n",
            "| Year_2012 | -11.5232435 |      6.7486859      | -1.7074796 | 0.0877329 |     |\n",
            "| Year_2014 | -12.1921827 |      7.1848029      | -1.6969404 | 0.0897079 |     |\n",
            "| Year_2016 | -12.8632524 |      7.5996276      | -1.6926161 | 0.0905286 |     |\n",
            "| Year_2018 | -13.6988007 |      7.9922229      | -1.7140164 | 0.0865257 |     |\n",
            "+-----------+-------------+---------------------+------------+-----------+-----+\n",
            "Hansen test of overid. restrictions: chi(76) = 186.563 Prob > Chi2 = 0.000\n",
            "Arellano-Bond test for AR(1) in first differences: z = -26.06 Pr > z =0.000\n",
            "Arellano-Bond test for AR(2) in first differences: z = -3.84 Pr > z =0.000\n",
            "\n"
          ]
        }
      ]
    },
    {
      "cell_type": "markdown",
      "source": [
        "An innovative feature of pydynpd is that it can try all possible lags and return models that pass Hansen and AR(2) tests.\n",
        "\n",
        "For example, suppose we want the system to try different models with different numbers of lagged dependent variable . We can indicate this request by using \"L(1:?).ln_y\" in part 2. The question mark means the system is requested to try L(1:1).ln_y, then L(1:2).ln_y, then L(1:3).ln_y, so on and so forth. Each attempt is a candidate model. The system will automatically filter out models and only show \"good\" models that satisfy all of the conditions below:\n",
        "\n",
        "pass Hansen over-identification test (i.e., its P value should be greater than 5%) pass AR(2) test (i.e., its P value is greater than 5%) The P-value of Hansen over-identification test shouldn't be too high. In other words, it should be less than 99.99%. This is because a P value too close to 1 indicates a potential too-many-instrument issue.\n",
        "\n",
        "Example 8: automatica mode (1) In this example, we let the system try different models by increasing the number of lagged dependent variable one by one"
      ],
      "metadata": {
        "id": "0r-BDUgbX5N_"
      }
    },
    {
      "cell_type": "markdown",
      "source": [
        "# Part 3 Automatic mode"
      ],
      "metadata": {
        "id": "3MNR6yH3aJRB"
      }
    },
    {
      "cell_type": "code",
      "source": [
        "#M8\n",
        "command_str='ln_y L(1:?).ln_y S X X2 dwhite dblack | gmm(ln_y, 2:3) pred(S X2)'\n",
        "\n",
        "mydpd  = regression.abond(command_str, df, ['ID', 'Year'])"
      ],
      "metadata": {
        "colab": {
          "base_uri": "https://localhost:8080/"
        },
        "id": "jsLTOf_cTVsI",
        "outputId": "fff60508-db92-4c62-c8ba-daea95d58e94"
      },
      "execution_count": 21,
      "outputs": [
        {
          "output_type": "stream",
          "name": "stdout",
          "text": [
            " m16\n",
            " Dynamic panel-data estimation, two-step system GMM\n",
            " Group variable: ID                                Number of obs = 13068    \n",
            " Time variable: Year                               Min obs per group: 11    \n",
            " Number of instruments = 546                       Max obs per group: 11    \n",
            " Number of groups = 1188                           Avg obs per group: 11.00 \n",
            "+----------+------------+---------------------+------------+-----------+-----+\n",
            "|   ln_y   |   coef.    | Corrected Std. Err. |     z      |   P>|z|   |     |\n",
            "+----------+------------+---------------------+------------+-----------+-----+\n",
            "| L1.ln_y  | 0.6877691  |      0.0163243      | 42.1315004 | 0.0000000 | *** |\n",
            "| L2.ln_y  | 0.1022449  |      0.0162492      | 6.2923191  | 0.0000000 | *** |\n",
            "| L3.ln_y  | 0.0813378  |      0.0348915      | 2.3311657  | 0.0197446 |  *  |\n",
            "| L4.ln_y  | 0.0532899  |      0.0483810      | 1.1014634  | 0.2706950 |     |\n",
            "| L5.ln_y  | -0.0062452 |      0.0328391      | -0.1901770 | 0.8491704 |     |\n",
            "| L6.ln_y  | 0.0536334  |      0.0313537      | 1.7105919  | 0.0871565 |     |\n",
            "| L7.ln_y  | -0.0244088 |      0.0336476      | -0.7254246 | 0.4681916 |     |\n",
            "| L8.ln_y  | -0.0413661 |      0.0329810      | -1.2542399 | 0.2097548 |     |\n",
            "| L9.ln_y  | 0.0359026  |      0.0315977      | 1.1362399  | 0.2558562 |     |\n",
            "| L10.ln_y | -0.0011200 |      0.0276025      | -0.0405753 | 0.9676345 |     |\n",
            "| L11.ln_y | -0.0067995 |      0.0298030      | -0.2281483 | 0.8195310 |     |\n",
            "| L12.ln_y | 0.0659232  |      0.0281150      | 2.3447652  | 0.0190391 |  *  |\n",
            "| L13.ln_y | -0.0608566 |      0.0265779      | -2.2897397 | 0.0220364 |  *  |\n",
            "| L14.ln_y | 0.0205397  |      0.0225156      | 0.9122419  | 0.3616414 |     |\n",
            "| L15.ln_y | -0.0285291 |      0.0254120      | -1.1226624 | 0.2615809 |     |\n",
            "| L16.ln_y | 0.0134879  |      0.0235289      | 0.5732496  | 0.5664757 |     |\n",
            "|    S     | 0.0405189  |      0.0138597      | 2.9235153  | 0.0034610 |  ** |\n",
            "|    X     | 0.0094042  |      0.0244816      | 0.3841351  | 0.7008783 |     |\n",
            "|    X2    | -0.0002827 |      0.0004265      | -0.6629477 | 0.5073640 |     |\n",
            "|  dwhite  | 0.0200167  |      0.1216517      | 0.1645412  | 0.8693051 |     |\n",
            "|  dblack  | 0.1234344  |      0.0728695      | 1.6939114  | 0.0902821 |     |\n",
            "|   _con   | -0.4399635 |      0.3481397      | -1.2637556 | 0.2063178 |     |\n",
            "+----------+------------+---------------------+------------+-----------+-----+\n",
            "Hansen test of overid. restrictions: chi(524) = 572.279 Prob > Chi2 = 0.071\n",
            "Arellano-Bond test for AR(1) in first differences: z = -15.70 Pr > z =0.000\n",
            "Arellano-Bond test for AR(2) in first differences: z = 0.22 Pr > z =0.827\n",
            "\n",
            " m17\n",
            " Dynamic panel-data estimation, two-step system GMM\n",
            " Group variable: ID                                Number of obs = 11880    \n",
            " Time variable: Year                               Min obs per group: 10    \n",
            " Number of instruments = 507                       Max obs per group: 10    \n",
            " Number of groups = 1188                           Avg obs per group: 10.00 \n",
            "+----------+------------+---------------------+------------+-----------+-----+\n",
            "|   ln_y   |   coef.    | Corrected Std. Err. |     z      |   P>|z|   |     |\n",
            "+----------+------------+---------------------+------------+-----------+-----+\n",
            "| L1.ln_y  | 0.6870785  |      0.0181258      | 37.9060303 | 0.0000000 | *** |\n",
            "| L2.ln_y  | 0.0967481  |      0.0173319      | 5.5820745  | 0.0000000 | *** |\n",
            "| L3.ln_y  | 0.0789665  |      0.0374351      | 2.1094251  | 0.0349079 |  *  |\n",
            "| L4.ln_y  | 0.0439196  |      0.0568946      | 0.7719466  | 0.4401461 |     |\n",
            "| L5.ln_y  | -0.0211005 |      0.0498661      | -0.4231432 | 0.6721908 |     |\n",
            "| L6.ln_y  | 0.0767897  |      0.0327685      | 2.3433975  | 0.0191090 |  *  |\n",
            "| L7.ln_y  | -0.0211038 |      0.0324313      | -0.6507213 | 0.5152264 |     |\n",
            "| L8.ln_y  | -0.0398600 |      0.0343065      | -1.1618777 | 0.2452851 |     |\n",
            "| L9.ln_y  | 0.0546835  |      0.0330966      | 1.6522422  | 0.0984852 |     |\n",
            "| L10.ln_y | -0.0084104 |      0.0284396      | -0.2957297 | 0.7674365 |     |\n",
            "| L11.ln_y | -0.0055479 |      0.0297332      | -0.1865898 | 0.8519823 |     |\n",
            "| L12.ln_y | 0.0650610  |      0.0276835      | 2.3501746  | 0.0187646 |  *  |\n",
            "| L13.ln_y | -0.0646898 |      0.0245458      | -2.6354756 | 0.0084019 |  ** |\n",
            "| L14.ln_y | 0.0177988  |      0.0193159      | 0.9214581  | 0.3568113 |     |\n",
            "| L15.ln_y | -0.0346124 |      0.0260153      | -1.3304631 | 0.1833657 |     |\n",
            "| L16.ln_y | -0.0451586 |      0.0347956      | -1.2978250 | 0.1943475 |     |\n",
            "| L17.ln_y | 0.0712738  |      0.0295689      | 2.4104321  | 0.0159336 |  *  |\n",
            "|    S     | 0.0477762  |      0.0157702      | 3.0295155  | 0.0024495 |  ** |\n",
            "|    X     | -0.0031805 |      0.0302694      | -0.1050732 | 0.9163177 |     |\n",
            "|    X2    | -0.0000850 |      0.0005105      | -0.1663972 | 0.8678444 |     |\n",
            "|  dwhite  | 0.0102125  |      0.1283542      | 0.0795650  | 0.9365832 |     |\n",
            "|  dblack  | 0.1264872  |      0.0790299      | 1.6004974  | 0.1094883 |     |\n",
            "|   _con   | -0.3946244 |      0.4531117      | -0.8709207 | 0.3837974 |     |\n",
            "+----------+------------+---------------------+------------+-----------+-----+\n",
            "Hansen test of overid. restrictions: chi(484) = 520.646 Prob > Chi2 = 0.121\n",
            "Arellano-Bond test for AR(1) in first differences: z = -15.36 Pr > z =0.000\n",
            "Arellano-Bond test for AR(2) in first differences: z = 0.34 Pr > z =0.738\n",
            "\n",
            " m18\n",
            " Dynamic panel-data estimation, two-step system GMM\n",
            " Group variable: ID                                Number of obs = 10692   \n",
            " Time variable: Year                               Min obs per group: 9    \n",
            " Number of instruments = 466                       Max obs per group: 9    \n",
            " Number of groups = 1188                           Avg obs per group: 9.00 \n",
            "+----------+------------+---------------------+------------+-----------+-----+\n",
            "|   ln_y   |   coef.    | Corrected Std. Err. |     z      |   P>|z|   |     |\n",
            "+----------+------------+---------------------+------------+-----------+-----+\n",
            "| L1.ln_y  | 0.6906569  |      0.0190267      | 36.2992967 | 0.0000000 | *** |\n",
            "| L2.ln_y  | 0.0945117  |      0.0177053      | 5.3380554  | 0.0000001 | *** |\n",
            "| L3.ln_y  | 0.0812807  |      0.0383493      | 2.1194837  | 0.0340496 |  *  |\n",
            "| L4.ln_y  | 0.0547429  |      0.0577337      | 0.9481974  | 0.3430290 |     |\n",
            "| L5.ln_y  | -0.0308175 |      0.0654122      | -0.4711284 | 0.6375491 |     |\n",
            "| L6.ln_y  | 0.0723654  |      0.0581765      | 1.2438929  | 0.2135390 |     |\n",
            "| L7.ln_y  | -0.0270912 |      0.0303463      | -0.8927334 | 0.3720000 |     |\n",
            "| L8.ln_y  | -0.0233408 |      0.0307858      | -0.7581692 | 0.4483497 |     |\n",
            "| L9.ln_y  | 0.0391972  |      0.0316848      | 1.2370961  | 0.2160514 |     |\n",
            "| L10.ln_y | -0.0163520 |      0.0292155      | -0.5597025 | 0.5756824 |     |\n",
            "| L11.ln_y | 0.0043466  |      0.0297905      | 0.1459071  | 0.8839947 |     |\n",
            "| L12.ln_y | 0.0553762  |      0.0257312      | 2.1521030  | 0.0313892 |  *  |\n",
            "| L13.ln_y | -0.0524626 |      0.0230254      | -2.2784653 | 0.0226989 |  *  |\n",
            "| L14.ln_y | 0.0208269  |      0.0188309      | 1.1059976  | 0.2687276 |     |\n",
            "| L15.ln_y | -0.0289800 |      0.0236460      | -1.2255778 | 0.2203576 |     |\n",
            "| L16.ln_y | -0.0375698 |      0.0414658      | -0.9060417 | 0.3649138 |     |\n",
            "| L17.ln_y | 0.0808622  |      0.0483152      | 1.6736370  | 0.0942020 |     |\n",
            "| L18.ln_y | -0.0096537 |      0.0311630      | -0.3097811 | 0.7567275 |     |\n",
            "|    S     | 0.0515367  |      0.0171827      | 2.9993379  | 0.0027057 |  ** |\n",
            "|    X     | -0.0444554 |      0.0382732      | -1.1615266 | 0.2454278 |     |\n",
            "|    X2    | 0.0006225  |      0.0006124      | 1.0164248  | 0.3094272 |     |\n",
            "|  dwhite  | 0.0166132  |      0.1370964      | 0.1211789  | 0.9035493 |     |\n",
            "|  dblack  | 0.1285711  |      0.0845850      | 1.5200233  | 0.1285051 |     |\n",
            "|   _con   | -0.0023254 |      0.6077065      | -0.0038264 | 0.9969469 |     |\n",
            "+----------+------------+---------------------+------------+-----------+-----+\n",
            "Hansen test of overid. restrictions: chi(442) = 472.499 Prob > Chi2 = 0.153\n",
            "Arellano-Bond test for AR(1) in first differences: z = -14.70 Pr > z =0.000\n",
            "Arellano-Bond test for AR(2) in first differences: z = 1.02 Pr > z =0.309\n",
            "\n",
            " m19\n",
            " Dynamic panel-data estimation, two-step system GMM\n",
            " Group variable: ID                                Number of obs = 9504    \n",
            " Time variable: Year                               Min obs per group: 8    \n",
            " Number of instruments = 423                       Max obs per group: 8    \n",
            " Number of groups = 1188                           Avg obs per group: 8.00 \n",
            "+----------+------------+---------------------+------------+-----------+-----+\n",
            "|   ln_y   |   coef.    | Corrected Std. Err. |     z      |   P>|z|   |     |\n",
            "+----------+------------+---------------------+------------+-----------+-----+\n",
            "| L1.ln_y  | 0.6978066  |      0.0213814      | 32.6362062 | 0.0000000 | *** |\n",
            "| L2.ln_y  | 0.0965537  |      0.0188857      | 5.1125418  | 0.0000003 | *** |\n",
            "| L3.ln_y  | 0.0618308  |      0.0414700      | 1.4909743  | 0.1359682 |     |\n",
            "| L4.ln_y  | 0.0539910  |      0.0628329      | 0.8592799  | 0.3901861 |     |\n",
            "| L5.ln_y  | -0.0239979 |      0.0627174      | -0.3826352 | 0.7019902 |     |\n",
            "| L6.ln_y  | 0.1175857  |      0.0652475      | 1.8021496  | 0.0715219 |     |\n",
            "| L7.ln_y  | -0.0810268 |      0.0500472      | -1.6190059 | 0.1054460 |     |\n",
            "| L8.ln_y  | -0.0002635 |      0.0317335      | -0.0083050 | 0.9933736 |     |\n",
            "| L9.ln_y  | 0.0312922  |      0.0305164      | 1.0254209  | 0.3051646 |     |\n",
            "| L10.ln_y | -0.0225660 |      0.0292794      | -0.7707141 | 0.4408764 |     |\n",
            "| L11.ln_y | 0.0069110  |      0.0314349      | 0.2198504  | 0.8259877 |     |\n",
            "| L12.ln_y | 0.0493301  |      0.0261959      | 1.8831242  | 0.0596835 |     |\n",
            "| L13.ln_y | -0.0412345 |      0.0259755      | -1.5874367 | 0.1124138 |     |\n",
            "| L14.ln_y | 0.0134687  |      0.0190550      | 0.7068365  | 0.4796681 |     |\n",
            "| L15.ln_y | -0.0417983 |      0.0238379      | -1.7534384 | 0.0795268 |     |\n",
            "| L16.ln_y | -0.0444549 |      0.0512464      | -0.8674721 | 0.3856834 |     |\n",
            "| L17.ln_y | 0.1072255  |      0.0572723      | 1.8722067  | 0.0611780 |     |\n",
            "| L18.ln_y | -0.0408711 |      0.0457589      | -0.8931854 | 0.3717579 |     |\n",
            "| L19.ln_y | 0.0608756  |      0.0340232      | 1.7892390  | 0.0735763 |     |\n",
            "|    S     | 0.0519144  |      0.0187968      | 2.7618782  | 0.0057470 |  ** |\n",
            "|    X     | -0.0754232 |      0.0470582      | -1.6027655 | 0.1089864 |     |\n",
            "|    X2    | 0.0010226  |      0.0007369      | 1.3876954  | 0.1652298 |     |\n",
            "|  dwhite  | 0.0482609  |      0.1470497      | 0.3281945  | 0.7427646 |     |\n",
            "|  dblack  | 0.1819208  |      0.0868616      | 2.0943754  | 0.0362265 |  *  |\n",
            "|   _con   | 0.3400025  |      0.7445267      | 0.4566693  | 0.6479088 |     |\n",
            "+----------+------------+---------------------+------------+-----------+-----+\n",
            "Hansen test of overid. restrictions: chi(398) = 425.244 Prob > Chi2 = 0.167\n",
            "Arellano-Bond test for AR(1) in first differences: z = -14.34 Pr > z =0.000\n",
            "Arellano-Bond test for AR(2) in first differences: z = 0.84 Pr > z =0.398\n",
            "\n",
            " m20\n",
            " Dynamic panel-data estimation, two-step system GMM\n",
            " Group variable: ID                                Number of obs = 8316    \n",
            " Time variable: Year                               Min obs per group: 7    \n",
            " Number of instruments = 378                       Max obs per group: 7    \n",
            " Number of groups = 1188                           Avg obs per group: 7.00 \n",
            "+----------+------------+---------------------+------------+-----------+-----+\n",
            "|   ln_y   |   coef.    | Corrected Std. Err. |     z      |   P>|z|   |     |\n",
            "+----------+------------+---------------------+------------+-----------+-----+\n",
            "| L1.ln_y  | 0.6753862  |      0.0227317      | 29.7111483 | 0.0000000 | *** |\n",
            "| L2.ln_y  | 0.1025049  |      0.0195455      | 5.2444273  | 0.0000002 | *** |\n",
            "| L3.ln_y  | 0.0152873  |      0.0464447      | 0.3291510  | 0.7420415 |     |\n",
            "| L4.ln_y  | 0.0954488  |      0.0657732      | 1.4511811  | 0.1467294 |     |\n",
            "| L5.ln_y  | 0.0143253  |      0.0664975      | 0.2154268  | 0.8294346 |     |\n",
            "| L6.ln_y  | 0.0656114  |      0.0644310      | 1.0183217  | 0.3085251 |     |\n",
            "| L7.ln_y  | -0.0861457 |      0.0601146      | -1.4330256 | 0.1518505 |     |\n",
            "| L8.ln_y  | 0.0433172  |      0.0510075      | 0.8492328  | 0.3957518 |     |\n",
            "| L9.ln_y  | 0.0437426  |      0.0332508      | 1.3155345  | 0.1883303 |     |\n",
            "| L10.ln_y | -0.0356661 |      0.0314330      | -1.1346705 | 0.2565134 |     |\n",
            "| L11.ln_y | 0.0196900  |      0.0313823      | 0.6274220  | 0.5303827 |     |\n",
            "| L12.ln_y | 0.0467720  |      0.0253312      | 1.8464167  | 0.0648317 |     |\n",
            "| L13.ln_y | -0.0321353 |      0.0232221      | -1.3838218 | 0.1664130 |     |\n",
            "| L14.ln_y | 0.0112146  |      0.0200815      | 0.5584542  | 0.5765343 |     |\n",
            "| L15.ln_y | -0.0348176 |      0.0231528      | -1.5038198 | 0.1326278 |     |\n",
            "| L16.ln_y | -0.0402961 |      0.0480204      | -0.8391449 | 0.4013880 |     |\n",
            "| L17.ln_y | 0.0472369  |      0.0580340      | 0.8139519  | 0.4156725 |     |\n",
            "| L18.ln_y | -0.0121821 |      0.0473114      | -0.2574884 | 0.7968018 |     |\n",
            "| L19.ln_y | 0.0035536  |      0.0464533      | 0.0764986  | 0.9390224 |     |\n",
            "| L20.ln_y | 0.0525413  |      0.0326427      | 1.6095894  | 0.1074875 |     |\n",
            "|    S     | 0.0541929  |      0.0222699      | 2.4334592  | 0.0149553 |  *  |\n",
            "|    X     | -0.1160893 |      0.0585045      | -1.9842796 | 0.0472247 |  *  |\n",
            "|    X2    | 0.0016358  |      0.0008970      | 1.8235771  | 0.0682160 |     |\n",
            "|  dwhite  | -0.0103710 |      0.1655753      | -0.0626360 | 0.9500563 |     |\n",
            "|  dblack  | 0.1195384  |      0.0999638      | 1.1958174  | 0.2317678 |     |\n",
            "|   _con   | 1.0551579  |      0.9484974      | 1.1124521  | 0.2659438 |     |\n",
            "+----------+------------+---------------------+------------+-----------+-----+\n",
            "Hansen test of overid. restrictions: chi(352) = 348.396 Prob > Chi2 = 0.544\n",
            "Arellano-Bond test for AR(1) in first differences: z = -13.52 Pr > z =0.000\n",
            "Arellano-Bond test for AR(2) in first differences: z = -0.51 Pr > z =0.611\n",
            "\n",
            " m21\n",
            " Dynamic panel-data estimation, two-step system GMM\n",
            " Group variable: ID                                Number of obs = 7128    \n",
            " Time variable: Year                               Min obs per group: 6    \n",
            " Number of instruments = 331                       Max obs per group: 6    \n",
            " Number of groups = 1188                           Avg obs per group: 6.00 \n",
            "+----------+------------+---------------------+------------+-----------+-----+\n",
            "|   ln_y   |   coef.    | Corrected Std. Err. |     z      |   P>|z|   |     |\n",
            "+----------+------------+---------------------+------------+-----------+-----+\n",
            "| L1.ln_y  | 0.6646632  |      0.0250509      | 26.5325239 | 0.0000000 | *** |\n",
            "| L2.ln_y  | 0.1010869  |      0.0226068      | 4.4715290  | 0.0000078 | *** |\n",
            "| L3.ln_y  | -0.0204588 |      0.0500990      | -0.4083670 | 0.6830042 |     |\n",
            "| L4.ln_y  | 0.0616049  |      0.0728933      | 0.8451375  | 0.3980341 |     |\n",
            "| L5.ln_y  | 0.0615912  |      0.0627661      | 0.9812826  | 0.3264534 |     |\n",
            "| L6.ln_y  | 0.0686342  |      0.0639000      | 1.0740886  | 0.2827830 |     |\n",
            "| L7.ln_y  | -0.0420637 |      0.0559297      | -0.7520816 | 0.4520020 |     |\n",
            "| L8.ln_y  | -0.0078149 |      0.0531562      | -0.1470180 | 0.8831178 |     |\n",
            "| L9.ln_y  | 0.0803734  |      0.0628356      | 1.2791051  | 0.2008600 |     |\n",
            "| L10.ln_y | -0.0194108 |      0.0375525      | -0.5168959 | 0.6052288 |     |\n",
            "| L11.ln_y | 0.0188767  |      0.0319406      | 0.5909928  | 0.5545253 |     |\n",
            "| L12.ln_y | 0.0429325  |      0.0286733      | 1.4972981  | 0.1343157 |     |\n",
            "| L13.ln_y | -0.0338664 |      0.0232434      | -1.4570335 | 0.1451071 |     |\n",
            "| L14.ln_y | 0.0196265  |      0.0202648      | 0.9684996  | 0.3327949 |     |\n",
            "| L15.ln_y | -0.0386844 |      0.0243747      | -1.5870732 | 0.1124961 |     |\n",
            "| L16.ln_y | -0.0326380 |      0.0489679      | -0.6665179 | 0.5050801 |     |\n",
            "| L17.ln_y | 0.0879270  |      0.0679537      | 1.2939257  | 0.1956911 |     |\n",
            "| L18.ln_y | -0.0358211 |      0.0552696      | -0.6481165 | 0.5169096 |     |\n",
            "| L19.ln_y | -0.0424233 |      0.0562965      | -0.7535692 | 0.4511079 |     |\n",
            "| L20.ln_y | 0.0311028  |      0.0469631      | 0.6622819  | 0.5077906 |     |\n",
            "| L21.ln_y | 0.0074329  |      0.0344668      | 0.2156550  | 0.8292566 |     |\n",
            "|    S     | 0.0535725  |      0.0270293      | 1.9820147  | 0.0474776 |  *  |\n",
            "|    X     | -0.1061451 |      0.0817838      | -1.2978744 | 0.1943305 |     |\n",
            "|    X2    | 0.0015081  |      0.0011935      | 1.2636399  | 0.2063593 |     |\n",
            "|  dwhite  | -0.0599287 |      0.1894964      | -0.3162524 | 0.7518109 |     |\n",
            "|  dblack  | 0.0374117  |      0.1119894      | 0.3340643  | 0.7383311 |     |\n",
            "|   _con   | 1.0320168  |      1.3525473      | 0.7630172  | 0.4454531 |     |\n",
            "+----------+------------+---------------------+------------+-----------+-----+\n",
            "Hansen test of overid. restrictions: chi(304) = 304.887 Prob > Chi2 = 0.475\n",
            "Arellano-Bond test for AR(1) in first differences: z = -13.06 Pr > z =0.000\n",
            "Arellano-Bond test for AR(2) in first differences: z = -1.49 Pr > z =0.137\n",
            "\n",
            " m22\n",
            " Dynamic panel-data estimation, two-step system GMM\n",
            " Group variable: ID                                Number of obs = 5940    \n",
            " Time variable: Year                               Min obs per group: 5    \n",
            " Number of instruments = 282                       Max obs per group: 5    \n",
            " Number of groups = 1188                           Avg obs per group: 5.00 \n",
            "+----------+------------+---------------------+------------+-----------+-----+\n",
            "|   ln_y   |   coef.    | Corrected Std. Err. |     z      |   P>|z|   |     |\n",
            "+----------+------------+---------------------+------------+-----------+-----+\n",
            "| L1.ln_y  | 0.6765660  |      0.0293202      | 23.0751079 | 0.0000000 | *** |\n",
            "| L2.ln_y  | 0.0836628  |      0.0252801      | 3.3094394  | 0.0009348 | *** |\n",
            "| L3.ln_y  | -0.0208816 |      0.0596970      | -0.3497936 | 0.7264936 |     |\n",
            "| L4.ln_y  | 0.0766323  |      0.0886188      | 0.8647407  | 0.3871812 |     |\n",
            "| L5.ln_y  | 0.0038931  |      0.0831694      | 0.0468091  | 0.9626653 |     |\n",
            "| L6.ln_y  | 0.1016726  |      0.0643896      | 1.5790227  | 0.1143309 |     |\n",
            "| L7.ln_y  | -0.0576018 |      0.0575954      | -1.0001117 | 0.3172565 |     |\n",
            "| L8.ln_y  | -0.0078105 |      0.0617851      | -0.1264143 | 0.8994039 |     |\n",
            "| L9.ln_y  | 0.0268119  |      0.0834719      | 0.3212087  | 0.7480523 |     |\n",
            "| L10.ln_y | 0.0998348  |      0.0681156      | 1.4656673  | 0.1427389 |     |\n",
            "| L11.ln_y | 0.0309130  |      0.0357453      | 0.8648140  | 0.3871409 |     |\n",
            "| L12.ln_y | 0.0288682  |      0.0297419      | 0.9706218  | 0.3317366 |     |\n",
            "| L13.ln_y | -0.0280696 |      0.0235504      | -1.1918936 | 0.2333030 |     |\n",
            "| L14.ln_y | 0.0183812  |      0.0236864      | 0.7760239  | 0.4377349 |     |\n",
            "| L15.ln_y | -0.0276381 |      0.0278616      | -0.9919800 | 0.3212073 |     |\n",
            "| L16.ln_y | -0.0718330 |      0.0683526      | -1.0509186 | 0.2932960 |     |\n",
            "| L17.ln_y | 0.0880311  |      0.0700813      | 1.2561275  | 0.2090697 |     |\n",
            "| L18.ln_y | -0.0334780 |      0.0687737      | -0.4867850 | 0.6264107 |     |\n",
            "| L19.ln_y | -0.0268096 |      0.0633603      | -0.4231303 | 0.6722002 |     |\n",
            "| L20.ln_y | 0.0011057  |      0.0449320      | 0.0246081  | 0.9803676 |     |\n",
            "| L21.ln_y | -0.0389611 |      0.0421069      | -0.9252905 | 0.3548148 |     |\n",
            "| L22.ln_y | 0.0577310  |      0.0362494      | 1.5926045  | 0.1112490 |     |\n",
            "|    S     | 0.0344428  |      0.0336732      | 1.0228543  | 0.3063767 |     |\n",
            "|    X     | -0.1604703 |      0.1098651      | -1.4606116 | 0.1441221 |     |\n",
            "|    X2    | 0.0022281  |      0.0015808      | 1.4094581  | 0.1586998 |     |\n",
            "|  dwhite  | -0.1391100 |      0.2076518      | -0.6699195 | 0.5029091 |     |\n",
            "|  dblack  | -0.1197013 |      0.1335649      | -0.8962031 | 0.3701443 |     |\n",
            "|   _con   | 2.3327314  |      1.8025745      | 1.2941109  | 0.1956271 |     |\n",
            "+----------+------------+---------------------+------------+-----------+-----+\n",
            "Hansen test of overid. restrictions: chi(254) = 245.051 Prob > Chi2 = 0.645\n",
            "Arellano-Bond test for AR(1) in first differences: z = -12.46 Pr > z =0.000\n",
            "Arellano-Bond test for AR(2) in first differences: z = -0.83 Pr > z =0.409\n",
            "\n",
            " m23\n",
            " Dynamic panel-data estimation, two-step system GMM\n",
            " Group variable: ID                                Number of obs = 4752    \n",
            " Time variable: Year                               Min obs per group: 4    \n",
            " Number of instruments = 231                       Max obs per group: 4    \n",
            " Number of groups = 1188                           Avg obs per group: 4.00 \n",
            "+----------+------------+---------------------+------------+-----------+-----+\n",
            "|   ln_y   |   coef.    | Corrected Std. Err. |     z      |   P>|z|   |     |\n",
            "+----------+------------+---------------------+------------+-----------+-----+\n",
            "| L1.ln_y  | 0.6659163  |      0.0370309      | 17.9827053 | 0.0000000 | *** |\n",
            "| L2.ln_y  | 0.0804084  |      0.0313473      | 2.5650797  | 0.0103152 |  *  |\n",
            "| L3.ln_y  | -0.0395414 |      0.0773879      | -0.5109499 | 0.6093861 |     |\n",
            "| L4.ln_y  | 0.0779936  |      0.1076578      | 0.7244578  | 0.4687847 |     |\n",
            "| L5.ln_y  | 0.0042610  |      0.0894897      | 0.0476149  | 0.9620231 |     |\n",
            "| L6.ln_y  | 0.0755647  |      0.0720104      | 1.0493581  | 0.2940133 |     |\n",
            "| L7.ln_y  | -0.0504714 |      0.0679651      | -0.7426079 | 0.4577191 |     |\n",
            "| L8.ln_y  | 0.0383021  |      0.0745525      | 0.5137598  | 0.6074199 |     |\n",
            "| L9.ln_y  | 0.0238479  |      0.0846164      | 0.2818359  | 0.7780693 |     |\n",
            "| L10.ln_y | 0.0759654  |      0.0906347      | 0.8381493  | 0.4019469 |     |\n",
            "| L11.ln_y | 0.0627827  |      0.0905137      | 0.6936265  | 0.4879165 |     |\n",
            "| L12.ln_y | 0.0485421  |      0.0352399      | 1.3774766  | 0.1683650 |     |\n",
            "| L13.ln_y | -0.0271989 |      0.0273131      | -0.9958211 | 0.3193371 |     |\n",
            "| L14.ln_y | 0.0150130  |      0.0277970      | 0.5400949  | 0.5891316 |     |\n",
            "| L15.ln_y | -0.0326152 |      0.0321716      | -1.0137876 | 0.3106841 |     |\n",
            "| L16.ln_y | -0.1162794 |      0.0782145      | -1.4866738 | 0.1371010 |     |\n",
            "| L17.ln_y | 0.1079383  |      0.0945450      | 1.1416598  | 0.2535955 |     |\n",
            "| L18.ln_y | -0.0272140 |      0.0976229      | -0.2787667 | 0.7804239 |     |\n",
            "| L19.ln_y | -0.0880008 |      0.0810016      | -1.0864071 | 0.2772989 |     |\n",
            "| L20.ln_y | 0.0206025  |      0.0575593      | 0.3579347  | 0.7203922 |     |\n",
            "| L21.ln_y | -0.0445883 |      0.0531755      | -0.8385114 | 0.4017435 |     |\n",
            "| L22.ln_y | 0.0508474  |      0.0424961      | 1.1965169  | 0.2314949 |     |\n",
            "| L23.ln_y | 0.0333254  |      0.0414260      | 0.8044568  | 0.4211332 |     |\n",
            "|    S     | 0.0554975  |      0.0523313      | 1.0605042  | 0.2889153 |     |\n",
            "|    X     | -0.1644996 |      0.1745367      | -0.9424930 | 0.3459403 |     |\n",
            "|    X2    | 0.0022283  |      0.0024187      | 0.9212819  | 0.3569033 |     |\n",
            "|  dwhite  | -0.2172806 |      0.2598645      | -0.8361304 | 0.4030816 |     |\n",
            "|  dblack  | -0.0420965 |      0.1867370      | -0.2254318 | 0.8216433 |     |\n",
            "|   _con   | 2.3756208  |      3.1150667      | 0.7626228  | 0.4456884 |     |\n",
            "+----------+------------+---------------------+------------+-----------+-----+\n",
            "Hansen test of overid. restrictions: chi(202) = 198.457 Prob > Chi2 = 0.557\n",
            "Arellano-Bond test for AR(1) in first differences: z = -10.61 Pr > z =0.000\n",
            "Arellano-Bond test for AR(2) in first differences: z = -0.85 Pr > z =0.395\n",
            "\n",
            " m24\n",
            " Dynamic panel-data estimation, two-step system GMM\n",
            " Group variable: ID                                Number of obs = 3564    \n",
            " Time variable: Year                               Min obs per group: 3    \n",
            " Number of instruments = 178                       Max obs per group: 3    \n",
            " Number of groups = 1188                           Avg obs per group: 3.00 \n",
            "+----------+------------+---------------------+------------+-----------+-----+\n",
            "|   ln_y   |   coef.    | Corrected Std. Err. |     z      |   P>|z|   |     |\n",
            "+----------+------------+---------------------+------------+-----------+-----+\n",
            "| L1.ln_y  | 0.6889805  |      0.0426193      | 16.1659366 | 0.0000000 | *** |\n",
            "| L2.ln_y  | 0.1040385  |      0.0356666      | 2.9169763  | 0.0035344 |  ** |\n",
            "| L3.ln_y  | -0.0130431 |      0.0856182      | -0.1523405 | 0.8789184 |     |\n",
            "| L4.ln_y  | -0.0213158 |      0.1112770      | -0.1915564 | 0.8480897 |     |\n",
            "| L5.ln_y  | 0.0523033  |      0.1221653      | 0.4281357  | 0.6685523 |     |\n",
            "| L6.ln_y  | -0.0474133 |      0.1134312      | -0.4179921 | 0.6759529 |     |\n",
            "| L7.ln_y  | -0.0559348 |      0.0848176      | -0.6594712 | 0.5095933 |     |\n",
            "| L8.ln_y  | 0.0691799  |      0.0841033      | 0.8225581  | 0.4107593 |     |\n",
            "| L9.ln_y  | 0.0138142  |      0.0824015      | 0.1676451  | 0.8668625 |     |\n",
            "| L10.ln_y | 0.1752154  |      0.0935294      | 1.8733715  | 0.0610171 |     |\n",
            "| L11.ln_y | -0.0236362 |      0.1125649      | -0.2099783 | 0.8336846 |     |\n",
            "| L12.ln_y | 0.1517914  |      0.1341019      | 1.1319108  | 0.2576719 |     |\n",
            "| L13.ln_y | -0.0105805 |      0.0397497      | -0.2661770 | 0.7901029 |     |\n",
            "| L14.ln_y | 0.0206917  |      0.0361383      | 0.5725699  | 0.5669359 |     |\n",
            "| L15.ln_y | -0.0596681 |      0.0357935      | -1.6670101 | 0.0955124 |     |\n",
            "| L16.ln_y | -0.0826989 |      0.0821209      | -1.0070378 | 0.3139166 |     |\n",
            "| L17.ln_y | 0.0653064  |      0.0995190      | 0.6562201  | 0.5116825 |     |\n",
            "| L18.ln_y | 0.0382105  |      0.1192548      | 0.3204103  | 0.7486573 |     |\n",
            "| L19.ln_y | -0.1278116 |      0.1019533      | -1.2536285 | 0.2099771 |     |\n",
            "| L20.ln_y | -0.0092930 |      0.0730341      | -0.1272415 | 0.8987493 |     |\n",
            "| L21.ln_y | -0.0698443 |      0.0687761      | -1.0155316 | 0.3098525 |     |\n",
            "| L22.ln_y | 0.0774101  |      0.0534806      | 1.4474424  | 0.1477731 |     |\n",
            "| L23.ln_y | -0.0085733 |      0.0564105      | -0.1519801 | 0.8792026 |     |\n",
            "| L24.ln_y | 0.0235106  |      0.0527559      | 0.4456487  | 0.6558510 |     |\n",
            "|    S     | -0.0164466 |      0.0743319      | -0.2212590 | 0.8248908 |     |\n",
            "|    X     | 0.1834446  |      0.2723904      | 0.6734618  | 0.5006535 |     |\n",
            "|    X2    | -0.0029898 |      0.0036250      | -0.8247607 | 0.4095074 |     |\n",
            "|  dwhite  | -0.3777415 |      0.3106534      | -1.2159581 | 0.2240009 |     |\n",
            "|  dblack  | -0.1002425 |      0.2183535      | -0.4590836 | 0.6461741 |     |\n",
            "|   _con   | -2.2739000 |      5.0131655      | -0.4535857 | 0.6501271 |     |\n",
            "+----------+------------+---------------------+------------+-----------+-----+\n",
            "Hansen test of overid. restrictions: chi(148) = 128.963 Prob > Chi2 = 0.868\n",
            "Arellano-Bond test for AR(1) in first differences: z = -9.54 Pr > z =0.000\n",
            "Arellano-Bond test for AR(2) in first differences: z = 0.20 Pr > z =0.844\n",
            "\n",
            "models are sorted by bic\n",
            "+-----------+----------+----------+----------+----------+----------+----------+----------+----------+----------+\n",
            "| variables |   m16    |   m17    |   m18    |   m19    |   m20    |   m21    |   m22    |   m23    |   m24    |\n",
            "+-----------+----------+----------+----------+----------+----------+----------+----------+----------+----------+\n",
            "|  L1.ln_y  | 0.688*** | 0.687*** | 0.691*** | 0.698*** | 0.675*** | 0.665*** | 0.677*** | 0.666*** | 0.689*** |\n",
            "|           | (0.016)  | (0.018)  | (0.019)  | (0.021)  | (0.023)  | (0.025)  | (0.029)  | (0.037)  | (0.043)  |\n",
            "|  L2.ln_y  | 0.102*** | 0.097*** | 0.095*** | 0.097*** | 0.103*** | 0.101*** | 0.084*** |  0.080*  | 0.104**  |\n",
            "|           | (0.016)  | (0.017)  | (0.018)  | (0.019)  | (0.020)  | (0.023)  | (0.025)  | (0.031)  | (0.036)  |\n",
            "|  L3.ln_y  |  0.081*  |  0.079*  |  0.081*  |  0.062   |  0.015   | -0.020   | -0.021   | -0.040   | -0.013   |\n",
            "|           | (0.035)  | (0.037)  | (0.038)  | (0.041)  | (0.046)  | (0.050)  | (0.060)  | (0.077)  | (0.086)  |\n",
            "|  L4.ln_y  |  0.053   |  0.044   |  0.055   |  0.054   |  0.095   |  0.062   |  0.077   |  0.078   | -0.021   |\n",
            "|           | (0.048)  | (0.057)  | (0.058)  | (0.063)  | (0.066)  | (0.073)  | (0.089)  | (0.108)  | (0.111)  |\n",
            "|  L5.ln_y  | -0.006   | -0.021   | -0.031   | -0.024   |  0.014   |  0.062   |  0.004   |  0.004   |  0.052   |\n",
            "|           | (0.033)  | (0.050)  | (0.065)  | (0.063)  | (0.066)  | (0.063)  | (0.083)  | (0.089)  | (0.122)  |\n",
            "|  L6.ln_y  |  0.054   |  0.077*  |  0.072   |  0.118   |  0.066   |  0.069   |  0.102   |  0.076   | -0.047   |\n",
            "|           | (0.031)  | (0.033)  | (0.058)  | (0.065)  | (0.064)  | (0.064)  | (0.064)  | (0.072)  | (0.113)  |\n",
            "|  L7.ln_y  | -0.024   | -0.021   | -0.027   | -0.081   | -0.086   | -0.042   | -0.058   | -0.050   | -0.056   |\n",
            "|           | (0.034)  | (0.032)  | (0.030)  | (0.050)  | (0.060)  | (0.056)  | (0.058)  | (0.068)  | (0.085)  |\n",
            "|  L8.ln_y  | -0.041   | -0.040   | -0.023   | -0.000   |  0.043   | -0.008   | -0.008   |  0.038   |  0.069   |\n",
            "|           | (0.033)  | (0.034)  | (0.031)  | (0.032)  | (0.051)  | (0.053)  | (0.062)  | (0.075)  | (0.084)  |\n",
            "|  L9.ln_y  |  0.036   |  0.055   |  0.039   |  0.031   |  0.044   |  0.080   |  0.027   |  0.024   |  0.014   |\n",
            "|           | (0.032)  | (0.033)  | (0.032)  | (0.031)  | (0.033)  | (0.063)  | (0.083)  | (0.085)  | (0.082)  |\n",
            "|  L10.ln_y | -0.001   | -0.008   | -0.016   | -0.023   | -0.036   | -0.019   |  0.100   |  0.076   |  0.175   |\n",
            "|           | (0.028)  | (0.028)  | (0.029)  | (0.029)  | (0.031)  | (0.038)  | (0.068)  | (0.091)  | (0.094)  |\n",
            "|  L11.ln_y | -0.007   | -0.006   |  0.004   |  0.007   |  0.020   |  0.019   |  0.031   |  0.063   | -0.024   |\n",
            "|           | (0.030)  | (0.030)  | (0.030)  | (0.031)  | (0.031)  | (0.032)  | (0.036)  | (0.091)  | (0.113)  |\n",
            "|  L12.ln_y |  0.066*  |  0.065*  |  0.055*  |  0.049   |  0.047   |  0.043   |  0.029   |  0.049   |  0.152   |\n",
            "|           | (0.028)  | (0.028)  | (0.026)  | (0.026)  | (0.025)  | (0.029)  | (0.030)  | (0.035)  | (0.134)  |\n",
            "|  L13.ln_y | -0.061*  | -0.065** | -0.052*  | -0.041   | -0.032   | -0.034   | -0.028   | -0.027   | -0.011   |\n",
            "|           | (0.027)  | (0.025)  | (0.023)  | (0.026)  | (0.023)  | (0.023)  | (0.024)  | (0.027)  | (0.040)  |\n",
            "|  L14.ln_y |  0.021   |  0.018   |  0.021   |  0.013   |  0.011   |  0.020   |  0.018   |  0.015   |  0.021   |\n",
            "|           | (0.023)  | (0.019)  | (0.019)  | (0.019)  | (0.020)  | (0.020)  | (0.024)  | (0.028)  | (0.036)  |\n",
            "|  L15.ln_y | -0.029   | -0.035   | -0.029   | -0.042   | -0.035   | -0.039   | -0.028   | -0.033   | -0.060   |\n",
            "|           | (0.025)  | (0.026)  | (0.024)  | (0.024)  | (0.023)  | (0.024)  | (0.028)  | (0.032)  | (0.036)  |\n",
            "|  L16.ln_y |  0.013   | -0.045   | -0.038   | -0.044   | -0.040   | -0.033   | -0.072   | -0.116   | -0.083   |\n",
            "|           | (0.024)  | (0.035)  | (0.041)  | (0.051)  | (0.048)  | (0.049)  | (0.068)  | (0.078)  | (0.082)  |\n",
            "|  L17.ln_y |          |  0.071*  |  0.081   |  0.107   |  0.047   |  0.088   |  0.088   |  0.108   |  0.065   |\n",
            "|           |          | (0.030)  | (0.048)  | (0.057)  | (0.058)  | (0.068)  | (0.070)  | (0.095)  | (0.100)  |\n",
            "|  L18.ln_y |          |          | -0.010   | -0.041   | -0.012   | -0.036   | -0.033   | -0.027   |  0.038   |\n",
            "|           |          |          | (0.031)  | (0.046)  | (0.047)  | (0.055)  | (0.069)  | (0.098)  | (0.119)  |\n",
            "|  L19.ln_y |          |          |          |  0.061   |  0.004   | -0.042   | -0.027   | -0.088   | -0.128   |\n",
            "|           |          |          |          | (0.034)  | (0.046)  | (0.056)  | (0.063)  | (0.081)  | (0.102)  |\n",
            "|  L20.ln_y |          |          |          |          |  0.053   |  0.031   |  0.001   |  0.021   | -0.009   |\n",
            "|           |          |          |          |          | (0.033)  | (0.047)  | (0.045)  | (0.058)  | (0.073)  |\n",
            "|  L21.ln_y |          |          |          |          |          |  0.007   | -0.039   | -0.045   | -0.070   |\n",
            "|           |          |          |          |          |          | (0.034)  | (0.042)  | (0.053)  | (0.069)  |\n",
            "|  L22.ln_y |          |          |          |          |          |          |  0.058   |  0.051   |  0.077   |\n",
            "|           |          |          |          |          |          |          | (0.036)  | (0.042)  | (0.053)  |\n",
            "|  L23.ln_y |          |          |          |          |          |          |          |  0.033   | -0.009   |\n",
            "|           |          |          |          |          |          |          |          | (0.041)  | (0.056)  |\n",
            "|  L24.ln_y |          |          |          |          |          |          |          |          |  0.024   |\n",
            "|           |          |          |          |          |          |          |          |          | (0.053)  |\n",
            "|     S     | 0.041**  | 0.048**  | 0.052**  | 0.052**  |  0.054*  |  0.054*  |  0.034   |  0.055   | -0.016   |\n",
            "|           | (0.014)  | (0.016)  | (0.017)  | (0.019)  | (0.022)  | (0.027)  | (0.034)  | (0.052)  | (0.074)  |\n",
            "|     X     |  0.009   | -0.003   | -0.044   | -0.075   | -0.116*  | -0.106   | -0.160   | -0.164   |  0.183   |\n",
            "|           | (0.024)  | (0.030)  | (0.038)  | (0.047)  | (0.059)  | (0.082)  | (0.110)  | (0.175)  | (0.272)  |\n",
            "|     X2    | -0.000   | -0.000   |  0.001   |  0.001   |  0.002   |  0.002   |  0.002   |  0.002   | -0.003   |\n",
            "|           | (0.000)  | (0.001)  | (0.001)  | (0.001)  | (0.001)  | (0.001)  | (0.002)  | (0.002)  | (0.004)  |\n",
            "|   dwhite  |  0.020   |  0.010   |  0.017   |  0.048   | -0.010   | -0.060   | -0.139   | -0.217   | -0.378   |\n",
            "|           | (0.122)  | (0.128)  | (0.137)  | (0.147)  | (0.166)  | (0.189)  | (0.208)  | (0.260)  | (0.311)  |\n",
            "|   dblack  |  0.123   |  0.126   |  0.129   |  0.182*  |  0.120   |  0.037   | -0.120   | -0.042   | -0.100   |\n",
            "|           | (0.073)  | (0.079)  | (0.085)  | (0.087)  | (0.100)  | (0.112)  | (0.134)  | (0.187)  | (0.218)  |\n",
            "|    _con   | -0.440   | -0.395   | -0.002   |  0.340   |  1.055   |  1.032   |  2.333   |  2.376   | -2.274   |\n",
            "|           | (0.348)  | (0.453)  | (0.608)  | (0.745)  | (0.948)  | (1.353)  | (1.803)  | (3.115)  | (5.013)  |\n",
            "+-----------+----------+----------+----------+----------+----------+----------+----------+----------+----------+\n",
            "HTML output named \"output.html\" is located in folder /content\n",
            "\n",
            "\n",
            "MMSC_LU scores:\n",
            "+-------+----------+-----------+-----------+----------------------------------------------------------------------------------------------------------------------------------------------------------------------------------------------------------------------------------------------------------------------------------------------------+\n",
            "| model |   aic    |    bic    |    hqic   | command str                                                                                                                                                                                                                                                                                        |\n",
            "+-------+----------+-----------+-----------+----------------------------------------------------------------------------------------------------------------------------------------------------------------------------------------------------------------------------------------------------------------------------------------------------+\n",
            "|  m16  | -477.721 | -4403.630 | -1907.205 |  ln_y  L1.ln_y  L2.ln_y  L3.ln_y  L4.ln_y  L5.ln_y  L6.ln_y  L7.ln_y  L8.ln_y  L9.ln_y  L10.ln_y  L11.ln_y  L12.ln_y  L13.ln_y  L14.ln_y  L15.ln_y  L16.ln_y  S  X  X2  dwhite  dblack | gmm(ln_y, 2:3) pred(S X2)                                                                                 |\n",
            "|  m17  | -449.354 | -4029.921 | -1759.631 |  ln_y  L1.ln_y  L2.ln_y  L3.ln_y  L4.ln_y  L5.ln_y  L6.ln_y  L7.ln_y  L8.ln_y  L9.ln_y  L10.ln_y  L11.ln_y  L12.ln_y  L13.ln_y  L14.ln_y  L15.ln_y  L16.ln_y  L17.ln_y  S  X  X2  dwhite  dblack | gmm(ln_y, 2:3) pred(S X2)                                                                       |\n",
            "|  m18  | -413.501 | -3637.323 | -1599.805 |  ln_y  L1.ln_y  L2.ln_y  L3.ln_y  L4.ln_y  L5.ln_y  L6.ln_y  L7.ln_y  L8.ln_y  L9.ln_y  L10.ln_y  L11.ln_y  L12.ln_y  L13.ln_y  L14.ln_y  L15.ln_y  L16.ln_y  L17.ln_y  L18.ln_y  S  X  X2  dwhite  dblack | gmm(ln_y, 2:3) pred(S X2)                                                             |\n",
            "|  m19  | -372.756 | -3229.383 | -1430.527 |  ln_y  L1.ln_y  L2.ln_y  L3.ln_y  L4.ln_y  L5.ln_y  L6.ln_y  L7.ln_y  L8.ln_y  L9.ln_y  L10.ln_y  L11.ln_y  L12.ln_y  L13.ln_y  L14.ln_y  L15.ln_y  L16.ln_y  L17.ln_y  L18.ln_y  L19.ln_y  S  X  X2  dwhite  dblack | gmm(ln_y, 2:3) pred(S X2)                                                   |\n",
            "|  m20  | -357.604 | -2837.760 | -1282.540 |  ln_y  L1.ln_y  L2.ln_y  L3.ln_y  L4.ln_y  L5.ln_y  L6.ln_y  L7.ln_y  L8.ln_y  L9.ln_y  L10.ln_y  L11.ln_y  L12.ln_y  L13.ln_y  L14.ln_y  L15.ln_y  L16.ln_y  L17.ln_y  L18.ln_y  L19.ln_y  L20.ln_y  S  X  X2  dwhite  dblack | gmm(ln_y, 2:3) pred(S X2)                                         |\n",
            "|  m21  | -305.113 | -2401.008 | -1093.245 |  ln_y  L1.ln_y  L2.ln_y  L3.ln_y  L4.ln_y  L5.ln_y  L6.ln_y  L7.ln_y  L8.ln_y  L9.ln_y  L10.ln_y  L11.ln_y  L12.ln_y  L13.ln_y  L14.ln_y  L15.ln_y  L16.ln_y  L17.ln_y  L18.ln_y  L19.ln_y  L20.ln_y  L21.ln_y  S  X  X2  dwhite  dblack | gmm(ln_y, 2:3) pred(S X2)                               |\n",
            "|  m22  | -264.949 | -1970.762 |  -912.759 |  ln_y  L1.ln_y  L2.ln_y  L3.ln_y  L4.ln_y  L5.ln_y  L6.ln_y  L7.ln_y  L8.ln_y  L9.ln_y  L10.ln_y  L11.ln_y  L12.ln_y  L13.ln_y  L14.ln_y  L15.ln_y  L16.ln_y  L17.ln_y  L18.ln_y  L19.ln_y  L20.ln_y  L21.ln_y  L22.ln_y  S  X  X2  dwhite  dblack | gmm(ln_y, 2:3) pred(S X2)                     |\n",
            "|  m23  | -207.543 | -1520.206 |  -712.161 |  ln_y  L1.ln_y  L2.ln_y  L3.ln_y  L4.ln_y  L5.ln_y  L6.ln_y  L7.ln_y  L8.ln_y  L9.ln_y  L10.ln_y  L11.ln_y  L12.ln_y  L13.ln_y  L14.ln_y  L15.ln_y  L16.ln_y  L17.ln_y  L18.ln_y  L19.ln_y  L20.ln_y  L21.ln_y  L22.ln_y  L23.ln_y  S  X  X2  dwhite  dblack | gmm(ln_y, 2:3) pred(S X2)           |\n",
            "|  m24  | -169.037 | -1089.654 |  -528.604 |  ln_y  L1.ln_y  L2.ln_y  L3.ln_y  L4.ln_y  L5.ln_y  L6.ln_y  L7.ln_y  L8.ln_y  L9.ln_y  L10.ln_y  L11.ln_y  L12.ln_y  L13.ln_y  L14.ln_y  L15.ln_y  L16.ln_y  L17.ln_y  L18.ln_y  L19.ln_y  L20.ln_y  L21.ln_y  L22.ln_y  L23.ln_y  L24.ln_y  S  X  X2  dwhite  dblack | gmm(ln_y, 2:3) pred(S X2) |\n",
            "+-------+----------+-----------+-----------+----------------------------------------------------------------------------------------------------------------------------------------------------------------------------------------------------------------------------------------------------------------------------------------------------+\n",
            "\n",
            "The following model(s) did not pass specification tests:\n",
            "+-------+----------------------------------------------------------------------------------------------------------------------------------------------------------------------------------------------------------+\n",
            "| model | command str                                                                                                                                                                                              |\n",
            "+-------+----------------------------------------------------------------------------------------------------------------------------------------------------------------------------------------------------------+\n",
            "|   m1  |  ln_y  L1.ln_y  S  X  X2  dwhite  dblack | gmm(ln_y, 2:3) pred(S X2)                                                                                                                                     |\n",
            "|   m2  |  ln_y  L1.ln_y  L2.ln_y  S  X  X2  dwhite  dblack | gmm(ln_y, 2:3) pred(S X2)                                                                                                                            |\n",
            "|   m3  |  ln_y  L1.ln_y  L2.ln_y  L3.ln_y  S  X  X2  dwhite  dblack | gmm(ln_y, 2:3) pred(S X2)                                                                                                                   |\n",
            "|   m4  |  ln_y  L1.ln_y  L2.ln_y  L3.ln_y  L4.ln_y  S  X  X2  dwhite  dblack | gmm(ln_y, 2:3) pred(S X2)                                                                                                          |\n",
            "|   m5  |  ln_y  L1.ln_y  L2.ln_y  L3.ln_y  L4.ln_y  L5.ln_y  S  X  X2  dwhite  dblack | gmm(ln_y, 2:3) pred(S X2)                                                                                                 |\n",
            "|   m6  |  ln_y  L1.ln_y  L2.ln_y  L3.ln_y  L4.ln_y  L5.ln_y  L6.ln_y  S  X  X2  dwhite  dblack | gmm(ln_y, 2:3) pred(S X2)                                                                                        |\n",
            "|   m7  |  ln_y  L1.ln_y  L2.ln_y  L3.ln_y  L4.ln_y  L5.ln_y  L6.ln_y  L7.ln_y  S  X  X2  dwhite  dblack | gmm(ln_y, 2:3) pred(S X2)                                                                               |\n",
            "|   m8  |  ln_y  L1.ln_y  L2.ln_y  L3.ln_y  L4.ln_y  L5.ln_y  L6.ln_y  L7.ln_y  L8.ln_y  S  X  X2  dwhite  dblack | gmm(ln_y, 2:3) pred(S X2)                                                                      |\n",
            "|   m9  |  ln_y  L1.ln_y  L2.ln_y  L3.ln_y  L4.ln_y  L5.ln_y  L6.ln_y  L7.ln_y  L8.ln_y  L9.ln_y  S  X  X2  dwhite  dblack | gmm(ln_y, 2:3) pred(S X2)                                                             |\n",
            "|  m10  |  ln_y  L1.ln_y  L2.ln_y  L3.ln_y  L4.ln_y  L5.ln_y  L6.ln_y  L7.ln_y  L8.ln_y  L9.ln_y  L10.ln_y  S  X  X2  dwhite  dblack | gmm(ln_y, 2:3) pred(S X2)                                                   |\n",
            "|  m11  |  ln_y  L1.ln_y  L2.ln_y  L3.ln_y  L4.ln_y  L5.ln_y  L6.ln_y  L7.ln_y  L8.ln_y  L9.ln_y  L10.ln_y  L11.ln_y  S  X  X2  dwhite  dblack | gmm(ln_y, 2:3) pred(S X2)                                         |\n",
            "|  m12  |  ln_y  L1.ln_y  L2.ln_y  L3.ln_y  L4.ln_y  L5.ln_y  L6.ln_y  L7.ln_y  L8.ln_y  L9.ln_y  L10.ln_y  L11.ln_y  L12.ln_y  S  X  X2  dwhite  dblack | gmm(ln_y, 2:3) pred(S X2)                               |\n",
            "|  m13  |  ln_y  L1.ln_y  L2.ln_y  L3.ln_y  L4.ln_y  L5.ln_y  L6.ln_y  L7.ln_y  L8.ln_y  L9.ln_y  L10.ln_y  L11.ln_y  L12.ln_y  L13.ln_y  S  X  X2  dwhite  dblack | gmm(ln_y, 2:3) pred(S X2)                     |\n",
            "|  m14  |  ln_y  L1.ln_y  L2.ln_y  L3.ln_y  L4.ln_y  L5.ln_y  L6.ln_y  L7.ln_y  L8.ln_y  L9.ln_y  L10.ln_y  L11.ln_y  L12.ln_y  L13.ln_y  L14.ln_y  S  X  X2  dwhite  dblack | gmm(ln_y, 2:3) pred(S X2)           |\n",
            "|  m15  |  ln_y  L1.ln_y  L2.ln_y  L3.ln_y  L4.ln_y  L5.ln_y  L6.ln_y  L7.ln_y  L8.ln_y  L9.ln_y  L10.ln_y  L11.ln_y  L12.ln_y  L13.ln_y  L14.ln_y  L15.ln_y  S  X  X2  dwhite  dblack | gmm(ln_y, 2:3) pred(S X2) |\n",
            "+-------+----------------------------------------------------------------------------------------------------------------------------------------------------------------------------------------------------------+\n"
          ]
        }
      ]
    },
    {
      "cell_type": "markdown",
      "source": [
        "Output above consists of four parts:\n",
        "\n",
        "the regression table of each individual \"good\" model side by side comparision of these good models Andrews-Lu MMSC Criteria (note) of these good models. They are sorted by BIC list of models that didn't pass specification tests (note) Andrews, Donald WK, and Biao Lu. \"Consistent model and moment selection procedures for GMM estimation with application to dynamic panel data models.\" Journal of Econometrics 101.1 (2001): 123-164. doi: 10.1016/S0304-4076(00)00077-4\n",
        "\n",
        "As shown above, the system reports 9 models (models m17 ~ m24). Under the name of each model, its command string is displayed which allows users to replicate the output of the model.\n",
        "\n",
        "The results of 9 of them are displayed because they all satisfy the conditions indicated above. On the other hand, models m1-m15 have not output because each of them doesn't satisfy at least one of the conditions.\n",
        "\n"
      ],
      "metadata": {
        "id": "9hmrKsneZmOW"
      }
    },
    {
      "cell_type": "markdown",
      "source": [
        "Example 9: automatic mode (2) Question mark is not restricted to lagged dependent variable n . For example, we can try the following model with two question marks, one for variable Ln_y and the other for variable S.Then the system will try all combinations of lagged Ln_y and Ln_y lagged ,resulting in much more candidate models. Note that this time, we added option \"hqic\" to our model, which indicates that competing models would be sorted by HQIC, rather than BIC."
      ],
      "metadata": {
        "id": "vpzaQ8l1aRYd"
      }
    },
    {
      "cell_type": "code",
      "source": [
        "#M9\n",
        "command_str='ln_y L(1:?).ln_y dwhite dblack L1.S L2.S L(3:?).S X X2| gmm(ln_y, 2:3) pred(X X2)|hqic'\n",
        "\n",
        "mydpd  = regression.abond(command_str, df, ['ID', 'Year'])"
      ],
      "metadata": {
        "id": "QRTzzX5rYouQ"
      },
      "execution_count": null,
      "outputs": []
    }
  ]
}